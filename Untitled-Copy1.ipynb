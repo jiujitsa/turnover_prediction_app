{
 "cells": [
  {
   "cell_type": "code",
   "execution_count": 1,
   "id": "8aaffbb7",
   "metadata": {},
   "outputs": [
    {
     "data": {
      "text/plain": [
       "{'divide': 'warn', 'over': 'warn', 'under': 'ignore', 'invalid': 'warn'}"
      ]
     },
     "execution_count": 1,
     "metadata": {},
     "output_type": "execute_result"
    }
   ],
   "source": [
    "import numpy as np\n",
    "import pandas as pd\n",
    "import seaborn as sns\n",
    "import matplotlib as mpl\n",
    "import requests\n",
    "from matplotlib import pyplot as plt\n",
    "%matplotlib inline\n",
    "\n",
    "np.seterr(divide = 'ignore') "
   ]
  },
  {
   "cell_type": "code",
   "execution_count": 2,
   "id": "6f03bc13",
   "metadata": {},
   "outputs": [],
   "source": [
    "df = pd.read_csv('employee_churn_data.csv')\n"
   ]
  },
  {
   "cell_type": "markdown",
   "id": "96911cb6",
   "metadata": {},
   "source": [
    "Exporatory Data Analysis"
   ]
  },
  {
   "cell_type": "code",
   "execution_count": 3,
   "id": "fde0c82c",
   "metadata": {},
   "outputs": [
    {
     "data": {
      "text/html": [
       "<div>\n",
       "<style scoped>\n",
       "    .dataframe tbody tr th:only-of-type {\n",
       "        vertical-align: middle;\n",
       "    }\n",
       "\n",
       "    .dataframe tbody tr th {\n",
       "        vertical-align: top;\n",
       "    }\n",
       "\n",
       "    .dataframe thead th {\n",
       "        text-align: right;\n",
       "    }\n",
       "</style>\n",
       "<table border=\"1\" class=\"dataframe\">\n",
       "  <thead>\n",
       "    <tr style=\"text-align: right;\">\n",
       "      <th></th>\n",
       "      <th>department</th>\n",
       "      <th>promoted</th>\n",
       "      <th>review</th>\n",
       "      <th>projects</th>\n",
       "      <th>salary</th>\n",
       "      <th>tenure</th>\n",
       "      <th>satisfaction</th>\n",
       "      <th>bonus</th>\n",
       "      <th>avg_hrs_month</th>\n",
       "      <th>left</th>\n",
       "    </tr>\n",
       "  </thead>\n",
       "  <tbody>\n",
       "    <tr>\n",
       "      <th>0</th>\n",
       "      <td>operations</td>\n",
       "      <td>0</td>\n",
       "      <td>0.577569</td>\n",
       "      <td>3</td>\n",
       "      <td>low</td>\n",
       "      <td>5.0</td>\n",
       "      <td>0.626759</td>\n",
       "      <td>0</td>\n",
       "      <td>180.866070</td>\n",
       "      <td>no</td>\n",
       "    </tr>\n",
       "    <tr>\n",
       "      <th>1</th>\n",
       "      <td>operations</td>\n",
       "      <td>0</td>\n",
       "      <td>0.751900</td>\n",
       "      <td>3</td>\n",
       "      <td>medium</td>\n",
       "      <td>6.0</td>\n",
       "      <td>0.443679</td>\n",
       "      <td>0</td>\n",
       "      <td>182.708149</td>\n",
       "      <td>no</td>\n",
       "    </tr>\n",
       "    <tr>\n",
       "      <th>2</th>\n",
       "      <td>support</td>\n",
       "      <td>0</td>\n",
       "      <td>0.722548</td>\n",
       "      <td>3</td>\n",
       "      <td>medium</td>\n",
       "      <td>6.0</td>\n",
       "      <td>0.446823</td>\n",
       "      <td>0</td>\n",
       "      <td>184.416084</td>\n",
       "      <td>no</td>\n",
       "    </tr>\n",
       "    <tr>\n",
       "      <th>3</th>\n",
       "      <td>logistics</td>\n",
       "      <td>0</td>\n",
       "      <td>0.675158</td>\n",
       "      <td>4</td>\n",
       "      <td>high</td>\n",
       "      <td>8.0</td>\n",
       "      <td>0.440139</td>\n",
       "      <td>0</td>\n",
       "      <td>188.707545</td>\n",
       "      <td>no</td>\n",
       "    </tr>\n",
       "    <tr>\n",
       "      <th>4</th>\n",
       "      <td>sales</td>\n",
       "      <td>0</td>\n",
       "      <td>0.676203</td>\n",
       "      <td>3</td>\n",
       "      <td>high</td>\n",
       "      <td>5.0</td>\n",
       "      <td>0.577607</td>\n",
       "      <td>1</td>\n",
       "      <td>179.821083</td>\n",
       "      <td>no</td>\n",
       "    </tr>\n",
       "  </tbody>\n",
       "</table>\n",
       "</div>"
      ],
      "text/plain": [
       "   department  promoted    review  projects  salary  tenure  satisfaction  \\\n",
       "0  operations         0  0.577569         3     low     5.0      0.626759   \n",
       "1  operations         0  0.751900         3  medium     6.0      0.443679   \n",
       "2     support         0  0.722548         3  medium     6.0      0.446823   \n",
       "3   logistics         0  0.675158         4    high     8.0      0.440139   \n",
       "4       sales         0  0.676203         3    high     5.0      0.577607   \n",
       "\n",
       "   bonus  avg_hrs_month left  \n",
       "0      0     180.866070   no  \n",
       "1      0     182.708149   no  \n",
       "2      0     184.416084   no  \n",
       "3      0     188.707545   no  \n",
       "4      1     179.821083   no  "
      ]
     },
     "execution_count": 3,
     "metadata": {},
     "output_type": "execute_result"
    }
   ],
   "source": [
    "df.head()"
   ]
  },
  {
   "cell_type": "code",
   "execution_count": 4,
   "id": "74f3cb7a",
   "metadata": {},
   "outputs": [
    {
     "name": "stdout",
     "output_type": "stream",
     "text": [
      "<class 'pandas.core.frame.DataFrame'>\n",
      "RangeIndex: 9540 entries, 0 to 9539\n",
      "Data columns (total 10 columns):\n",
      " #   Column         Non-Null Count  Dtype  \n",
      "---  ------         --------------  -----  \n",
      " 0   department     9540 non-null   object \n",
      " 1   promoted       9540 non-null   int64  \n",
      " 2   review         9540 non-null   float64\n",
      " 3   projects       9540 non-null   int64  \n",
      " 4   salary         9540 non-null   object \n",
      " 5   tenure         9540 non-null   float64\n",
      " 6   satisfaction   9540 non-null   float64\n",
      " 7   bonus          9540 non-null   int64  \n",
      " 8   avg_hrs_month  9540 non-null   float64\n",
      " 9   left           9540 non-null   object \n",
      "dtypes: float64(4), int64(3), object(3)\n",
      "memory usage: 745.4+ KB\n"
     ]
    }
   ],
   "source": [
    "df.info()"
   ]
  },
  {
   "cell_type": "code",
   "execution_count": null,
   "id": "3dc25242",
   "metadata": {},
   "outputs": [],
   "source": [
    "#left label 'yes' and 'no' are encoded to 1 and 0."
   ]
  },
  {
   "cell_type": "code",
   "execution_count": 5,
   "id": "a5b1aba3",
   "metadata": {},
   "outputs": [],
   "source": [
    "from sklearn.preprocessing import LabelEncoder\n",
    "enc = LabelEncoder()  \n",
    "df.left = enc.fit_transform(df.left)"
   ]
  },
  {
   "cell_type": "code",
   "execution_count": 6,
   "id": "18837128",
   "metadata": {},
   "outputs": [
    {
     "data": {
      "text/plain": [
       "array([[<AxesSubplot: title={'center': 'left'}>]], dtype=object)"
      ]
     },
     "execution_count": 6,
     "metadata": {},
     "output_type": "execute_result"
    },
    {
     "data": {
      "image/png": "[encoded data removed]",
      "text/plain": [
       "<Figure size 640x480 with 1 Axes>"
      ]
     },
     "metadata": {},
     "output_type": "display_data"
    }
   ],
   "source": [
    "df.hist('left') "
   ]
  },
  {
   "cell_type": "code",
   "execution_count": 7,
   "id": "8b5c5451",
   "metadata": {},
   "outputs": [
    {
     "data": {
      "text/html": [
       "<div>\n",
       "<style scoped>\n",
       "    .dataframe tbody tr th:only-of-type {\n",
       "        vertical-align: middle;\n",
       "    }\n",
       "\n",
       "    .dataframe tbody tr th {\n",
       "        vertical-align: top;\n",
       "    }\n",
       "\n",
       "    .dataframe thead th {\n",
       "        text-align: right;\n",
       "    }\n",
       "</style>\n",
       "<table border=\"1\" class=\"dataframe\">\n",
       "  <thead>\n",
       "    <tr style=\"text-align: right;\">\n",
       "      <th></th>\n",
       "      <th>department</th>\n",
       "      <th>promoted</th>\n",
       "      <th>review</th>\n",
       "      <th>projects</th>\n",
       "      <th>salary</th>\n",
       "      <th>tenure</th>\n",
       "      <th>satisfaction</th>\n",
       "      <th>bonus</th>\n",
       "      <th>avg_hrs_month</th>\n",
       "      <th>left</th>\n",
       "    </tr>\n",
       "  </thead>\n",
       "  <tbody>\n",
       "    <tr>\n",
       "      <th>0</th>\n",
       "      <td>operations</td>\n",
       "      <td>0</td>\n",
       "      <td>0.577569</td>\n",
       "      <td>3</td>\n",
       "      <td>low</td>\n",
       "      <td>5.0</td>\n",
       "      <td>0.626759</td>\n",
       "      <td>0</td>\n",
       "      <td>180.866070</td>\n",
       "      <td>0</td>\n",
       "    </tr>\n",
       "    <tr>\n",
       "      <th>1</th>\n",
       "      <td>operations</td>\n",
       "      <td>0</td>\n",
       "      <td>0.751900</td>\n",
       "      <td>3</td>\n",
       "      <td>medium</td>\n",
       "      <td>6.0</td>\n",
       "      <td>0.443679</td>\n",
       "      <td>0</td>\n",
       "      <td>182.708149</td>\n",
       "      <td>0</td>\n",
       "    </tr>\n",
       "    <tr>\n",
       "      <th>2</th>\n",
       "      <td>support</td>\n",
       "      <td>0</td>\n",
       "      <td>0.722548</td>\n",
       "      <td>3</td>\n",
       "      <td>medium</td>\n",
       "      <td>6.0</td>\n",
       "      <td>0.446823</td>\n",
       "      <td>0</td>\n",
       "      <td>184.416084</td>\n",
       "      <td>0</td>\n",
       "    </tr>\n",
       "    <tr>\n",
       "      <th>3</th>\n",
       "      <td>logistics</td>\n",
       "      <td>0</td>\n",
       "      <td>0.675158</td>\n",
       "      <td>4</td>\n",
       "      <td>high</td>\n",
       "      <td>8.0</td>\n",
       "      <td>0.440139</td>\n",
       "      <td>0</td>\n",
       "      <td>188.707545</td>\n",
       "      <td>0</td>\n",
       "    </tr>\n",
       "    <tr>\n",
       "      <th>4</th>\n",
       "      <td>sales</td>\n",
       "      <td>0</td>\n",
       "      <td>0.676203</td>\n",
       "      <td>3</td>\n",
       "      <td>high</td>\n",
       "      <td>5.0</td>\n",
       "      <td>0.577607</td>\n",
       "      <td>1</td>\n",
       "      <td>179.821083</td>\n",
       "      <td>0</td>\n",
       "    </tr>\n",
       "  </tbody>\n",
       "</table>\n",
       "</div>"
      ],
      "text/plain": [
       "   department  promoted    review  projects  salary  tenure  satisfaction  \\\n",
       "0  operations         0  0.577569         3     low     5.0      0.626759   \n",
       "1  operations         0  0.751900         3  medium     6.0      0.443679   \n",
       "2     support         0  0.722548         3  medium     6.0      0.446823   \n",
       "3   logistics         0  0.675158         4    high     8.0      0.440139   \n",
       "4       sales         0  0.676203         3    high     5.0      0.577607   \n",
       "\n",
       "   bonus  avg_hrs_month  left  \n",
       "0      0     180.866070     0  \n",
       "1      0     182.708149     0  \n",
       "2      0     184.416084     0  \n",
       "3      0     188.707545     0  \n",
       "4      1     179.821083     0  "
      ]
     },
     "execution_count": 7,
     "metadata": {},
     "output_type": "execute_result"
    }
   ],
   "source": [
    "df.head()"
   ]
  },
  {
   "cell_type": "code",
   "execution_count": null,
   "id": "8c345aff",
   "metadata": {},
   "outputs": [],
   "source": []
  },
  {
   "cell_type": "code",
   "execution_count": 8,
   "id": "c3ec45a9",
   "metadata": {},
   "outputs": [],
   "source": [
    "numerical_features_list = ['promoted', 'review', 'projects', 'tenure', 'satisfaction', 'bonus', 'avg_hrs_month', 'left']"
   ]
  },
  {
   "cell_type": "code",
   "execution_count": 9,
   "id": "f606ebc3",
   "metadata": {},
   "outputs": [],
   "source": [
    "df = df[numerical_features_list]"
   ]
  },
  {
   "cell_type": "code",
   "execution_count": 10,
   "id": "67d902e5",
   "metadata": {},
   "outputs": [],
   "source": [
    "df['avg_hrs_month'] = df['avg_hrs_month']/df['avg_hrs_month'].max()\n"
   ]
  },
  {
   "cell_type": "code",
   "execution_count": 11,
   "id": "e942d27f",
   "metadata": {},
   "outputs": [],
   "source": [
    "from sklearn.model_selection import train_test_split"
   ]
  },
  {
   "cell_type": "code",
   "execution_count": 12,
   "id": "3b82c41b",
   "metadata": {},
   "outputs": [],
   "source": [
    "df_full_train, df_test = train_test_split(df, test_size=0.2, random_state=1, shuffle=True)"
   ]
  },
  {
   "cell_type": "code",
   "execution_count": 13,
   "id": "190a902d",
   "metadata": {},
   "outputs": [],
   "source": [
    "df_train, df_val = train_test_split(df_full_train, test_size=0.25, random_state=1, shuffle=True)"
   ]
  },
  {
   "cell_type": "code",
   "execution_count": 14,
   "id": "5abe49d9",
   "metadata": {},
   "outputs": [
    {
     "data": {
      "text/plain": [
       "(5724, 8)"
      ]
     },
     "execution_count": 14,
     "metadata": {},
     "output_type": "execute_result"
    }
   ],
   "source": [
    "df_train.shape"
   ]
  },
  {
   "cell_type": "code",
   "execution_count": 15,
   "id": "c1367c8d",
   "metadata": {},
   "outputs": [],
   "source": [
    "y_train = df_train['left']\n",
    "y_test = df_test['left']\n",
    "y_val = df_val['left']"
   ]
  },
  {
   "cell_type": "code",
   "execution_count": 16,
   "id": "701a95ea",
   "metadata": {},
   "outputs": [],
   "source": [
    "del(df_train['left'])\n",
    "del(df_test['left'])\n",
    "del(df_val['left'])"
   ]
  },
  {
   "cell_type": "code",
   "execution_count": 17,
   "id": "b69cede1",
   "metadata": {},
   "outputs": [
    {
     "data": {
      "text/html": [
       "<div>\n",
       "<style scoped>\n",
       "    .dataframe tbody tr th:only-of-type {\n",
       "        vertical-align: middle;\n",
       "    }\n",
       "\n",
       "    .dataframe tbody tr th {\n",
       "        vertical-align: top;\n",
       "    }\n",
       "\n",
       "    .dataframe thead th {\n",
       "        text-align: right;\n",
       "    }\n",
       "</style>\n",
       "<table border=\"1\" class=\"dataframe\">\n",
       "  <thead>\n",
       "    <tr style=\"text-align: right;\">\n",
       "      <th></th>\n",
       "      <th>promoted</th>\n",
       "      <th>review</th>\n",
       "      <th>projects</th>\n",
       "      <th>tenure</th>\n",
       "      <th>satisfaction</th>\n",
       "      <th>bonus</th>\n",
       "      <th>avg_hrs_month</th>\n",
       "    </tr>\n",
       "  </thead>\n",
       "  <tbody>\n",
       "    <tr>\n",
       "      <th>3465</th>\n",
       "      <td>0</td>\n",
       "      <td>0.882596</td>\n",
       "      <td>4</td>\n",
       "      <td>5.0</td>\n",
       "      <td>0.189869</td>\n",
       "      <td>0</td>\n",
       "      <td>0.897300</td>\n",
       "    </tr>\n",
       "    <tr>\n",
       "      <th>2402</th>\n",
       "      <td>0</td>\n",
       "      <td>0.567465</td>\n",
       "      <td>3</td>\n",
       "      <td>5.0</td>\n",
       "      <td>0.676997</td>\n",
       "      <td>0</td>\n",
       "      <td>0.895693</td>\n",
       "    </tr>\n",
       "    <tr>\n",
       "      <th>4777</th>\n",
       "      <td>0</td>\n",
       "      <td>0.671394</td>\n",
       "      <td>4</td>\n",
       "      <td>7.0</td>\n",
       "      <td>0.230079</td>\n",
       "      <td>0</td>\n",
       "      <td>0.920276</td>\n",
       "    </tr>\n",
       "    <tr>\n",
       "      <th>1629</th>\n",
       "      <td>0</td>\n",
       "      <td>0.595283</td>\n",
       "      <td>3</td>\n",
       "      <td>7.0</td>\n",
       "      <td>0.585252</td>\n",
       "      <td>0</td>\n",
       "      <td>0.924968</td>\n",
       "    </tr>\n",
       "    <tr>\n",
       "      <th>5984</th>\n",
       "      <td>0</td>\n",
       "      <td>0.551469</td>\n",
       "      <td>3</td>\n",
       "      <td>6.0</td>\n",
       "      <td>0.387864</td>\n",
       "      <td>1</td>\n",
       "      <td>0.916505</td>\n",
       "    </tr>\n",
       "    <tr>\n",
       "      <th>...</th>\n",
       "      <td>...</td>\n",
       "      <td>...</td>\n",
       "      <td>...</td>\n",
       "      <td>...</td>\n",
       "      <td>...</td>\n",
       "      <td>...</td>\n",
       "      <td>...</td>\n",
       "    </tr>\n",
       "    <tr>\n",
       "      <th>6009</th>\n",
       "      <td>0</td>\n",
       "      <td>0.687603</td>\n",
       "      <td>3</td>\n",
       "      <td>7.0</td>\n",
       "      <td>0.357294</td>\n",
       "      <td>0</td>\n",
       "      <td>0.921890</td>\n",
       "    </tr>\n",
       "    <tr>\n",
       "      <th>8427</th>\n",
       "      <td>0</td>\n",
       "      <td>0.487696</td>\n",
       "      <td>3</td>\n",
       "      <td>8.0</td>\n",
       "      <td>0.373400</td>\n",
       "      <td>0</td>\n",
       "      <td>0.941714</td>\n",
       "    </tr>\n",
       "    <tr>\n",
       "      <th>4356</th>\n",
       "      <td>0</td>\n",
       "      <td>0.741088</td>\n",
       "      <td>4</td>\n",
       "      <td>7.0</td>\n",
       "      <td>0.342002</td>\n",
       "      <td>0</td>\n",
       "      <td>0.920301</td>\n",
       "    </tr>\n",
       "    <tr>\n",
       "      <th>4895</th>\n",
       "      <td>0</td>\n",
       "      <td>0.558719</td>\n",
       "      <td>3</td>\n",
       "      <td>8.0</td>\n",
       "      <td>0.405537</td>\n",
       "      <td>0</td>\n",
       "      <td>0.937003</td>\n",
       "    </tr>\n",
       "    <tr>\n",
       "      <th>485</th>\n",
       "      <td>0</td>\n",
       "      <td>0.658319</td>\n",
       "      <td>4</td>\n",
       "      <td>7.0</td>\n",
       "      <td>0.605603</td>\n",
       "      <td>1</td>\n",
       "      <td>0.925190</td>\n",
       "    </tr>\n",
       "  </tbody>\n",
       "</table>\n",
       "<p>5724 rows × 7 columns</p>\n",
       "</div>"
      ],
      "text/plain": [
       "      promoted    review  projects  tenure  satisfaction  bonus  avg_hrs_month\n",
       "3465         0  0.882596         4     5.0      0.189869      0       0.897300\n",
       "2402         0  0.567465         3     5.0      0.676997      0       0.895693\n",
       "4777         0  0.671394         4     7.0      0.230079      0       0.920276\n",
       "1629         0  0.595283         3     7.0      0.585252      0       0.924968\n",
       "5984         0  0.551469         3     6.0      0.387864      1       0.916505\n",
       "...        ...       ...       ...     ...           ...    ...            ...\n",
       "6009         0  0.687603         3     7.0      0.357294      0       0.921890\n",
       "8427         0  0.487696         3     8.0      0.373400      0       0.941714\n",
       "4356         0  0.741088         4     7.0      0.342002      0       0.920301\n",
       "4895         0  0.558719         3     8.0      0.405537      0       0.937003\n",
       "485          0  0.658319         4     7.0      0.605603      1       0.925190\n",
       "\n",
       "[5724 rows x 7 columns]"
      ]
     },
     "execution_count": 17,
     "metadata": {},
     "output_type": "execute_result"
    }
   ],
   "source": [
    "df_train"
   ]
  },
  {
   "cell_type": "code",
   "execution_count": 18,
   "id": "48aa9e16",
   "metadata": {},
   "outputs": [
    {
     "data": {
      "text/html": [
       "<div>\n",
       "<style scoped>\n",
       "    .dataframe tbody tr th:only-of-type {\n",
       "        vertical-align: middle;\n",
       "    }\n",
       "\n",
       "    .dataframe tbody tr th {\n",
       "        vertical-align: top;\n",
       "    }\n",
       "\n",
       "    .dataframe thead th {\n",
       "        text-align: right;\n",
       "    }\n",
       "</style>\n",
       "<table border=\"1\" class=\"dataframe\">\n",
       "  <thead>\n",
       "    <tr style=\"text-align: right;\">\n",
       "      <th></th>\n",
       "      <th>promoted</th>\n",
       "      <th>review</th>\n",
       "      <th>projects</th>\n",
       "      <th>tenure</th>\n",
       "      <th>satisfaction</th>\n",
       "      <th>bonus</th>\n",
       "      <th>avg_hrs_month</th>\n",
       "    </tr>\n",
       "  </thead>\n",
       "  <tbody>\n",
       "    <tr>\n",
       "      <th>8633</th>\n",
       "      <td>0</td>\n",
       "      <td>0.540461</td>\n",
       "      <td>3</td>\n",
       "      <td>7.0</td>\n",
       "      <td>0.693443</td>\n",
       "      <td>0</td>\n",
       "      <td>0.930803</td>\n",
       "    </tr>\n",
       "    <tr>\n",
       "      <th>3018</th>\n",
       "      <td>0</td>\n",
       "      <td>0.599346</td>\n",
       "      <td>3</td>\n",
       "      <td>5.0</td>\n",
       "      <td>0.772451</td>\n",
       "      <td>0</td>\n",
       "      <td>0.896168</td>\n",
       "    </tr>\n",
       "    <tr>\n",
       "      <th>8183</th>\n",
       "      <td>0</td>\n",
       "      <td>0.607351</td>\n",
       "      <td>4</td>\n",
       "      <td>7.0</td>\n",
       "      <td>0.550263</td>\n",
       "      <td>0</td>\n",
       "      <td>0.932914</td>\n",
       "    </tr>\n",
       "    <tr>\n",
       "      <th>7766</th>\n",
       "      <td>0</td>\n",
       "      <td>0.698769</td>\n",
       "      <td>3</td>\n",
       "      <td>9.0</td>\n",
       "      <td>0.450545</td>\n",
       "      <td>0</td>\n",
       "      <td>0.953211</td>\n",
       "    </tr>\n",
       "    <tr>\n",
       "      <th>2045</th>\n",
       "      <td>0</td>\n",
       "      <td>0.536302</td>\n",
       "      <td>2</td>\n",
       "      <td>7.0</td>\n",
       "      <td>0.613069</td>\n",
       "      <td>1</td>\n",
       "      <td>0.926633</td>\n",
       "    </tr>\n",
       "    <tr>\n",
       "      <th>...</th>\n",
       "      <td>...</td>\n",
       "      <td>...</td>\n",
       "      <td>...</td>\n",
       "      <td>...</td>\n",
       "      <td>...</td>\n",
       "      <td>...</td>\n",
       "      <td>...</td>\n",
       "    </tr>\n",
       "    <tr>\n",
       "      <th>3176</th>\n",
       "      <td>0</td>\n",
       "      <td>0.618196</td>\n",
       "      <td>2</td>\n",
       "      <td>6.0</td>\n",
       "      <td>0.582356</td>\n",
       "      <td>0</td>\n",
       "      <td>0.904152</td>\n",
       "    </tr>\n",
       "    <tr>\n",
       "      <th>5201</th>\n",
       "      <td>0</td>\n",
       "      <td>0.648051</td>\n",
       "      <td>4</td>\n",
       "      <td>6.0</td>\n",
       "      <td>0.266717</td>\n",
       "      <td>0</td>\n",
       "      <td>0.906609</td>\n",
       "    </tr>\n",
       "    <tr>\n",
       "      <th>8284</th>\n",
       "      <td>0</td>\n",
       "      <td>0.729308</td>\n",
       "      <td>3</td>\n",
       "      <td>8.0</td>\n",
       "      <td>0.660472</td>\n",
       "      <td>0</td>\n",
       "      <td>0.934859</td>\n",
       "    </tr>\n",
       "    <tr>\n",
       "      <th>5257</th>\n",
       "      <td>0</td>\n",
       "      <td>0.501450</td>\n",
       "      <td>2</td>\n",
       "      <td>10.0</td>\n",
       "      <td>0.678663</td>\n",
       "      <td>0</td>\n",
       "      <td>0.966264</td>\n",
       "    </tr>\n",
       "    <tr>\n",
       "      <th>3396</th>\n",
       "      <td>0</td>\n",
       "      <td>0.674539</td>\n",
       "      <td>2</td>\n",
       "      <td>7.0</td>\n",
       "      <td>0.441500</td>\n",
       "      <td>0</td>\n",
       "      <td>0.925697</td>\n",
       "    </tr>\n",
       "  </tbody>\n",
       "</table>\n",
       "<p>1908 rows × 7 columns</p>\n",
       "</div>"
      ],
      "text/plain": [
       "      promoted    review  projects  tenure  satisfaction  bonus  avg_hrs_month\n",
       "8633         0  0.540461         3     7.0      0.693443      0       0.930803\n",
       "3018         0  0.599346         3     5.0      0.772451      0       0.896168\n",
       "8183         0  0.607351         4     7.0      0.550263      0       0.932914\n",
       "7766         0  0.698769         3     9.0      0.450545      0       0.953211\n",
       "2045         0  0.536302         2     7.0      0.613069      1       0.926633\n",
       "...        ...       ...       ...     ...           ...    ...            ...\n",
       "3176         0  0.618196         2     6.0      0.582356      0       0.904152\n",
       "5201         0  0.648051         4     6.0      0.266717      0       0.906609\n",
       "8284         0  0.729308         3     8.0      0.660472      0       0.934859\n",
       "5257         0  0.501450         2    10.0      0.678663      0       0.966264\n",
       "3396         0  0.674539         2     7.0      0.441500      0       0.925697\n",
       "\n",
       "[1908 rows x 7 columns]"
      ]
     },
     "execution_count": 18,
     "metadata": {},
     "output_type": "execute_result"
    }
   ],
   "source": [
    "df_test"
   ]
  },
  {
   "cell_type": "code",
   "execution_count": 19,
   "id": "c93b9a1c",
   "metadata": {},
   "outputs": [
    {
     "data": {
      "text/plain": [
       "dtype('int32')"
      ]
     },
     "execution_count": 19,
     "metadata": {},
     "output_type": "execute_result"
    }
   ],
   "source": [
    "y_val.dtypes"
   ]
  },
  {
   "cell_type": "code",
   "execution_count": 20,
   "id": "0b6cf79a",
   "metadata": {},
   "outputs": [
    {
     "data": {
      "text/plain": [
       "promoted           int64\n",
       "review           float64\n",
       "projects           int64\n",
       "tenure           float64\n",
       "satisfaction     float64\n",
       "bonus              int64\n",
       "avg_hrs_month    float64\n",
       "dtype: object"
      ]
     },
     "execution_count": 20,
     "metadata": {},
     "output_type": "execute_result"
    }
   ],
   "source": [
    "df_train.dtypes\n"
   ]
  },
  {
   "cell_type": "markdown",
   "id": "d75fa311",
   "metadata": {},
   "source": [
    "Decision Tree Classifier"
   ]
  },
  {
   "cell_type": "code",
   "execution_count": 21,
   "id": "d4bee89f",
   "metadata": {},
   "outputs": [],
   "source": [
    "from sklearn.tree import DecisionTreeClassifier\n",
    "from sklearn.metrics import f1_score, classification_report"
   ]
  },
  {
   "cell_type": "code",
   "execution_count": 22,
   "id": "eb5a244b",
   "metadata": {},
   "outputs": [
    {
     "name": "stdout",
     "output_type": "stream",
     "text": [
      "1 0.23175965665236054\n",
      "2 0.13385826771653545\n",
      "3 0.27399650959860383\n",
      "4 0.22198731501057084\n",
      "5 0.2589371980676328\n",
      "6 0.2783229259589652\n",
      "7 0.2704174228675136\n",
      "8 0.2693726937269373\n",
      "9 0.26898444647758457\n"
     ]
    }
   ],
   "source": [
    "for depth in range(1,10):\n",
    "    dt = DecisionTreeClassifier(max_depth=depth)\n",
    "    dt.fit(df_train, y_train)\n",
    "    y_val_pred = dt.predict(df_test)\n",
    "    score = f1_score(y_val_pred, y_val)\n",
    "    print(depth, score)"
   ]
  },
  {
   "cell_type": "markdown",
   "id": "fbe46057",
   "metadata": {},
   "source": [
    "Random Forest Classifier"
   ]
  },
  {
   "cell_type": "code",
   "execution_count": 23,
   "id": "58cdca91",
   "metadata": {},
   "outputs": [],
   "source": [
    "from sklearn.ensemble import RandomForestClassifier"
   ]
  },
  {
   "cell_type": "code",
   "execution_count": 24,
   "id": "200816cc",
   "metadata": {},
   "outputs": [],
   "source": [
    "rf = RandomForestClassifier(n_estimators=10, random_state=1, n_jobs=-1)"
   ]
  },
  {
   "cell_type": "code",
   "execution_count": 25,
   "id": "169b78fd",
   "metadata": {},
   "outputs": [
    {
     "data": {
      "text/html": [
       "<style>#sk-container-id-1 {color: black;background-color: white;}#sk-container-id-1 pre{padding: 0;}#sk-container-id-1 div.sk-toggleable {background-color: white;}#sk-container-id-1 label.sk-toggleable__label {cursor: pointer;display: block;width: 100%;margin-bottom: 0;padding: 0.3em;box-sizing: border-box;text-align: center;}#sk-container-id-1 label.sk-toggleable__label-arrow:before {content: \"▸\";float: left;margin-right: 0.25em;color: #696969;}#sk-container-id-1 label.sk-toggleable__label-arrow:hover:before {color: black;}#sk-container-id-1 div.sk-estimator:hover label.sk-toggleable__label-arrow:before {color: black;}#sk-container-id-1 div.sk-toggleable__content {max-height: 0;max-width: 0;overflow: hidden;text-align: left;background-color: #f0f8ff;}#sk-container-id-1 div.sk-toggleable__content pre {margin: 0.2em;color: black;border-radius: 0.25em;background-color: #f0f8ff;}#sk-container-id-1 input.sk-toggleable__control:checked~div.sk-toggleable__content {max-height: 200px;max-width: 100%;overflow: auto;}#sk-container-id-1 input.sk-toggleable__control:checked~label.sk-toggleable__label-arrow:before {content: \"▾\";}#sk-container-id-1 div.sk-estimator input.sk-toggleable__control:checked~label.sk-toggleable__label {background-color: #d4ebff;}#sk-container-id-1 div.sk-label input.sk-toggleable__control:checked~label.sk-toggleable__label {background-color: #d4ebff;}#sk-container-id-1 input.sk-hidden--visually {border: 0;clip: rect(1px 1px 1px 1px);clip: rect(1px, 1px, 1px, 1px);height: 1px;margin: -1px;overflow: hidden;padding: 0;position: absolute;width: 1px;}#sk-container-id-1 div.sk-estimator {font-family: monospace;background-color: #f0f8ff;border: 1px dotted black;border-radius: 0.25em;box-sizing: border-box;margin-bottom: 0.5em;}#sk-container-id-1 div.sk-estimator:hover {background-color: #d4ebff;}#sk-container-id-1 div.sk-parallel-item::after {content: \"\";width: 100%;border-bottom: 1px solid gray;flex-grow: 1;}#sk-container-id-1 div.sk-label:hover label.sk-toggleable__label {background-color: #d4ebff;}#sk-container-id-1 div.sk-serial::before {content: \"\";position: absolute;border-left: 1px solid gray;box-sizing: border-box;top: 0;bottom: 0;left: 50%;z-index: 0;}#sk-container-id-1 div.sk-serial {display: flex;flex-direction: column;align-items: center;background-color: white;padding-right: 0.2em;padding-left: 0.2em;position: relative;}#sk-container-id-1 div.sk-item {position: relative;z-index: 1;}#sk-container-id-1 div.sk-parallel {display: flex;align-items: stretch;justify-content: center;background-color: white;position: relative;}#sk-container-id-1 div.sk-item::before, #sk-container-id-1 div.sk-parallel-item::before {content: \"\";position: absolute;border-left: 1px solid gray;box-sizing: border-box;top: 0;bottom: 0;left: 50%;z-index: -1;}#sk-container-id-1 div.sk-parallel-item {display: flex;flex-direction: column;z-index: 1;position: relative;background-color: white;}#sk-container-id-1 div.sk-parallel-item:first-child::after {align-self: flex-end;width: 50%;}#sk-container-id-1 div.sk-parallel-item:last-child::after {align-self: flex-start;width: 50%;}#sk-container-id-1 div.sk-parallel-item:only-child::after {width: 0;}#sk-container-id-1 div.sk-dashed-wrapped {border: 1px dashed gray;margin: 0 0.4em 0.5em 0.4em;box-sizing: border-box;padding-bottom: 0.4em;background-color: white;}#sk-container-id-1 div.sk-label label {font-family: monospace;font-weight: bold;display: inline-block;line-height: 1.2em;}#sk-container-id-1 div.sk-label-container {text-align: center;}#sk-container-id-1 div.sk-container {/* jupyter's `normalize.less` sets `[hidden] { display: none; }` but bootstrap.min.css set `[hidden] { display: none !important; }` so we also need the `!important` here to be able to override the default hidden behavior on the sphinx rendered scikit-learn.org. See: https://github.com/scikit-learn/scikit-learn/issues/21755 */display: inline-block !important;position: relative;}#sk-container-id-1 div.sk-text-repr-fallback {display: none;}</style><div id=\"sk-container-id-1\" class=\"sk-top-container\"><div class=\"sk-text-repr-fallback\"><pre>RandomForestClassifier(n_estimators=10, n_jobs=-1, random_state=1)</pre><b>In a Jupyter environment, please rerun this cell to show the HTML representation or trust the notebook. <br />On GitHub, the HTML representation is unable to render, please try loading this page with nbviewer.org.</b></div><div class=\"sk-container\" hidden><div class=\"sk-item\"><div class=\"sk-estimator sk-toggleable\"><input class=\"sk-toggleable__control sk-hidden--visually\" id=\"sk-estimator-id-1\" type=\"checkbox\" checked><label for=\"sk-estimator-id-1\" class=\"sk-toggleable__label sk-toggleable__label-arrow\">RandomForestClassifier</label><div class=\"sk-toggleable__content\"><pre>RandomForestClassifier(n_estimators=10, n_jobs=-1, random_state=1)</pre></div></div></div></div></div>"
      ],
      "text/plain": [
       "RandomForestClassifier(n_estimators=10, n_jobs=-1, random_state=1)"
      ]
     },
     "execution_count": 25,
     "metadata": {},
     "output_type": "execute_result"
    }
   ],
   "source": [
    "rf.fit(df_train, y_train)"
   ]
  },
  {
   "cell_type": "code",
   "execution_count": 26,
   "id": "993509aa",
   "metadata": {},
   "outputs": [],
   "source": [
    "y_test_pred = rf.predict(df_test)"
   ]
  },
  {
   "cell_type": "code",
   "execution_count": 27,
   "id": "efbebca4",
   "metadata": {},
   "outputs": [],
   "source": [
    "score = f1_score(y_test_pred, y_test)"
   ]
  },
  {
   "cell_type": "code",
   "execution_count": 28,
   "id": "e97ec45e",
   "metadata": {},
   "outputs": [
    {
     "data": {
      "text/plain": [
       "0.7429643527204504"
      ]
     },
     "execution_count": 28,
     "metadata": {},
     "output_type": "execute_result"
    }
   ],
   "source": [
    "score"
   ]
  },
  {
   "cell_type": "markdown",
   "id": "9af7bfaf",
   "metadata": {},
   "source": [
    "XGBoost"
   ]
  },
  {
   "cell_type": "code",
   "execution_count": 29,
   "id": "a4ec508a",
   "metadata": {},
   "outputs": [],
   "source": [
    "import xgboost as xg\n"
   ]
  },
  {
   "cell_type": "code",
   "execution_count": 30,
   "id": "7ed18dd8",
   "metadata": {},
   "outputs": [],
   "source": [
    "from xgboost import XGBClassifier"
   ]
  },
  {
   "cell_type": "code",
   "execution_count": 31,
   "id": "410a5c04",
   "metadata": {},
   "outputs": [],
   "source": [
    "xgb_r = xg.XGBClassifier(objective ='binary:logistic',\n",
    "                  n_estimators = 10, seed = 123)"
   ]
  },
  {
   "cell_type": "code",
   "execution_count": 32,
   "id": "519cc01c",
   "metadata": {},
   "outputs": [
    {
     "data": {
      "text/html": [
       "<style>#sk-container-id-2 {color: black;background-color: white;}#sk-container-id-2 pre{padding: 0;}#sk-container-id-2 div.sk-toggleable {background-color: white;}#sk-container-id-2 label.sk-toggleable__label {cursor: pointer;display: block;width: 100%;margin-bottom: 0;padding: 0.3em;box-sizing: border-box;text-align: center;}#sk-container-id-2 label.sk-toggleable__label-arrow:before {content: \"▸\";float: left;margin-right: 0.25em;color: #696969;}#sk-container-id-2 label.sk-toggleable__label-arrow:hover:before {color: black;}#sk-container-id-2 div.sk-estimator:hover label.sk-toggleable__label-arrow:before {color: black;}#sk-container-id-2 div.sk-toggleable__content {max-height: 0;max-width: 0;overflow: hidden;text-align: left;background-color: #f0f8ff;}#sk-container-id-2 div.sk-toggleable__content pre {margin: 0.2em;color: black;border-radius: 0.25em;background-color: #f0f8ff;}#sk-container-id-2 input.sk-toggleable__control:checked~div.sk-toggleable__content {max-height: 200px;max-width: 100%;overflow: auto;}#sk-container-id-2 input.sk-toggleable__control:checked~label.sk-toggleable__label-arrow:before {content: \"▾\";}#sk-container-id-2 div.sk-estimator input.sk-toggleable__control:checked~label.sk-toggleable__label {background-color: #d4ebff;}#sk-container-id-2 div.sk-label input.sk-toggleable__control:checked~label.sk-toggleable__label {background-color: #d4ebff;}#sk-container-id-2 input.sk-hidden--visually {border: 0;clip: rect(1px 1px 1px 1px);clip: rect(1px, 1px, 1px, 1px);height: 1px;margin: -1px;overflow: hidden;padding: 0;position: absolute;width: 1px;}#sk-container-id-2 div.sk-estimator {font-family: monospace;background-color: #f0f8ff;border: 1px dotted black;border-radius: 0.25em;box-sizing: border-box;margin-bottom: 0.5em;}#sk-container-id-2 div.sk-estimator:hover {background-color: #d4ebff;}#sk-container-id-2 div.sk-parallel-item::after {content: \"\";width: 100%;border-bottom: 1px solid gray;flex-grow: 1;}#sk-container-id-2 div.sk-label:hover label.sk-toggleable__label {background-color: #d4ebff;}#sk-container-id-2 div.sk-serial::before {content: \"\";position: absolute;border-left: 1px solid gray;box-sizing: border-box;top: 0;bottom: 0;left: 50%;z-index: 0;}#sk-container-id-2 div.sk-serial {display: flex;flex-direction: column;align-items: center;background-color: white;padding-right: 0.2em;padding-left: 0.2em;position: relative;}#sk-container-id-2 div.sk-item {position: relative;z-index: 1;}#sk-container-id-2 div.sk-parallel {display: flex;align-items: stretch;justify-content: center;background-color: white;position: relative;}#sk-container-id-2 div.sk-item::before, #sk-container-id-2 div.sk-parallel-item::before {content: \"\";position: absolute;border-left: 1px solid gray;box-sizing: border-box;top: 0;bottom: 0;left: 50%;z-index: -1;}#sk-container-id-2 div.sk-parallel-item {display: flex;flex-direction: column;z-index: 1;position: relative;background-color: white;}#sk-container-id-2 div.sk-parallel-item:first-child::after {align-self: flex-end;width: 50%;}#sk-container-id-2 div.sk-parallel-item:last-child::after {align-self: flex-start;width: 50%;}#sk-container-id-2 div.sk-parallel-item:only-child::after {width: 0;}#sk-container-id-2 div.sk-dashed-wrapped {border: 1px dashed gray;margin: 0 0.4em 0.5em 0.4em;box-sizing: border-box;padding-bottom: 0.4em;background-color: white;}#sk-container-id-2 div.sk-label label {font-family: monospace;font-weight: bold;display: inline-block;line-height: 1.2em;}#sk-container-id-2 div.sk-label-container {text-align: center;}#sk-container-id-2 div.sk-container {/* jupyter's `normalize.less` sets `[hidden] { display: none; }` but bootstrap.min.css set `[hidden] { display: none !important; }` so we also need the `!important` here to be able to override the default hidden behavior on the sphinx rendered scikit-learn.org. See: https://github.com/scikit-learn/scikit-learn/issues/21755 */display: inline-block !important;position: relative;}#sk-container-id-2 div.sk-text-repr-fallback {display: none;}</style><div id=\"sk-container-id-2\" class=\"sk-top-container\"><div class=\"sk-text-repr-fallback\"><pre>XGBClassifier(base_score=None, booster=None, callbacks=None,\n",
       "              colsample_bylevel=None, colsample_bynode=None,\n",
       "              colsample_bytree=None, early_stopping_rounds=None,\n",
       "              enable_categorical=False, eval_metric=None, feature_types=None,\n",
       "              gamma=None, gpu_id=None, grow_policy=None, importance_type=None,\n",
       "              interaction_constraints=None, learning_rate=None, max_bin=None,\n",
       "              max_cat_threshold=None, max_cat_to_onehot=None,\n",
       "              max_delta_step=None, max_depth=None, max_leaves=None,\n",
       "              min_child_weight=None, missing=nan, monotone_constraints=None,\n",
       "              n_estimators=10, n_jobs=None, num_parallel_tree=None,\n",
       "              predictor=None, random_state=None, ...)</pre><b>In a Jupyter environment, please rerun this cell to show the HTML representation or trust the notebook. <br />On GitHub, the HTML representation is unable to render, please try loading this page with nbviewer.org.</b></div><div class=\"sk-container\" hidden><div class=\"sk-item\"><div class=\"sk-estimator sk-toggleable\"><input class=\"sk-toggleable__control sk-hidden--visually\" id=\"sk-estimator-id-2\" type=\"checkbox\" checked><label for=\"sk-estimator-id-2\" class=\"sk-toggleable__label sk-toggleable__label-arrow\">XGBClassifier</label><div class=\"sk-toggleable__content\"><pre>XGBClassifier(base_score=None, booster=None, callbacks=None,\n",
       "              colsample_bylevel=None, colsample_bynode=None,\n",
       "              colsample_bytree=None, early_stopping_rounds=None,\n",
       "              enable_categorical=False, eval_metric=None, feature_types=None,\n",
       "              gamma=None, gpu_id=None, grow_policy=None, importance_type=None,\n",
       "              interaction_constraints=None, learning_rate=None, max_bin=None,\n",
       "              max_cat_threshold=None, max_cat_to_onehot=None,\n",
       "              max_delta_step=None, max_depth=None, max_leaves=None,\n",
       "              min_child_weight=None, missing=nan, monotone_constraints=None,\n",
       "              n_estimators=10, n_jobs=None, num_parallel_tree=None,\n",
       "              predictor=None, random_state=None, ...)</pre></div></div></div></div></div>"
      ],
      "text/plain": [
       "XGBClassifier(base_score=None, booster=None, callbacks=None,\n",
       "              colsample_bylevel=None, colsample_bynode=None,\n",
       "              colsample_bytree=None, early_stopping_rounds=None,\n",
       "              enable_categorical=False, eval_metric=None, feature_types=None,\n",
       "              gamma=None, gpu_id=None, grow_policy=None, importance_type=None,\n",
       "              interaction_constraints=None, learning_rate=None, max_bin=None,\n",
       "              max_cat_threshold=None, max_cat_to_onehot=None,\n",
       "              max_delta_step=None, max_depth=None, max_leaves=None,\n",
       "              min_child_weight=None, missing=nan, monotone_constraints=None,\n",
       "              n_estimators=10, n_jobs=None, num_parallel_tree=None,\n",
       "              predictor=None, random_state=None, ...)"
      ]
     },
     "execution_count": 32,
     "metadata": {},
     "output_type": "execute_result"
    }
   ],
   "source": [
    "xgb_r.fit(df_train, y_train)\n"
   ]
  },
  {
   "cell_type": "code",
   "execution_count": 33,
   "id": "936f198c",
   "metadata": {},
   "outputs": [],
   "source": [
    "y_test_pred = xgb_r.predict(df_test)"
   ]
  },
  {
   "cell_type": "code",
   "execution_count": 34,
   "id": "2eaf8ba0",
   "metadata": {},
   "outputs": [],
   "source": [
    "score = f1_score(y_test_pred, y_test)"
   ]
  },
  {
   "cell_type": "code",
   "execution_count": 35,
   "id": "30539bcd",
   "metadata": {},
   "outputs": [
    {
     "data": {
      "text/plain": [
       "0.7567067530064754"
      ]
     },
     "execution_count": 35,
     "metadata": {},
     "output_type": "execute_result"
    }
   ],
   "source": [
    "score"
   ]
  },
  {
   "cell_type": "markdown",
   "id": "db541f5a",
   "metadata": {},
   "source": [
    "Parameters tuning using Optuna"
   ]
  },
  {
   "cell_type": "code",
   "execution_count": 36,
   "id": "e4ffa4c1",
   "metadata": {},
   "outputs": [
    {
     "name": "stdout",
     "output_type": "stream",
     "text": [
      "Requirement already satisfied: optuna in c:\\users\\gvlasov\\anaconda3\\envs\\ml\\lib\\site-packages (3.1.0)\n",
      "Requirement already satisfied: colorlog in c:\\users\\gvlasov\\anaconda3\\envs\\ml\\lib\\site-packages (from optuna) (6.7.0)\n",
      "Requirement already satisfied: packaging>=20.0 in c:\\users\\gvlasov\\anaconda3\\envs\\ml\\lib\\site-packages (from optuna) (22.0)\n",
      "Requirement already satisfied: tqdm in c:\\users\\gvlasov\\anaconda3\\envs\\ml\\lib\\site-packages (from optuna) (4.64.1)\n",
      "Requirement already satisfied: PyYAML in c:\\users\\gvlasov\\anaconda3\\envs\\ml\\lib\\site-packages (from optuna) (6.0)\n",
      "Requirement already satisfied: sqlalchemy>=1.3.0 in c:\\users\\gvlasov\\anaconda3\\envs\\ml\\lib\\site-packages (from optuna) (1.4.46)\n",
      "Requirement already satisfied: numpy in c:\\users\\gvlasov\\anaconda3\\envs\\ml\\lib\\site-packages (from optuna) (1.23.5)\n",
      "Requirement already satisfied: cmaes>=0.9.1 in c:\\users\\gvlasov\\anaconda3\\envs\\ml\\lib\\site-packages (from optuna) (0.9.1)\n",
      "Requirement already satisfied: alembic>=1.5.0 in c:\\users\\gvlasov\\anaconda3\\envs\\ml\\lib\\site-packages (from optuna) (1.9.2)\n",
      "Requirement already satisfied: Mako in c:\\users\\gvlasov\\anaconda3\\envs\\ml\\lib\\site-packages (from alembic>=1.5.0->optuna) (1.2.4)\n",
      "Requirement already satisfied: greenlet!=0.4.17 in c:\\users\\gvlasov\\anaconda3\\envs\\ml\\lib\\site-packages (from sqlalchemy>=1.3.0->optuna) (2.0.1)\n",
      "Requirement already satisfied: colorama in c:\\users\\gvlasov\\anaconda3\\envs\\ml\\lib\\site-packages (from colorlog->optuna) (0.4.6)\n",
      "Requirement already satisfied: MarkupSafe>=0.9.2 in c:\\users\\gvlasov\\anaconda3\\envs\\ml\\lib\\site-packages (from Mako->alembic>=1.5.0->optuna) (2.1.1)\n"
     ]
    }
   ],
   "source": [
    "!pip3 install optuna\n"
   ]
  },
  {
   "cell_type": "code",
   "execution_count": 37,
   "id": "4d64487b",
   "metadata": {},
   "outputs": [],
   "source": [
    "import warnings\n",
    "warnings.filterwarnings('ignore')"
   ]
  },
  {
   "cell_type": "code",
   "execution_count": 38,
   "id": "a0889a1d",
   "metadata": {},
   "outputs": [],
   "source": [
    "import optuna\n"
   ]
  },
  {
   "cell_type": "code",
   "execution_count": 39,
   "id": "afab2203",
   "metadata": {},
   "outputs": [
    {
     "name": "stdout",
     "output_type": "stream",
     "text": [
      "              precision    recall  f1-score   support\n",
      "\n",
      "           0       0.93      0.88      0.90      1405\n",
      "           1       0.71      0.81      0.76       503\n",
      "\n",
      "    accuracy                           0.86      1908\n",
      "   macro avg       0.82      0.85      0.83      1908\n",
      "weighted avg       0.87      0.86      0.87      1908\n",
      "\n"
     ]
    }
   ],
   "source": [
    "print(classification_report(y_test_pred, y_test))\n"
   ]
  },
  {
   "cell_type": "code",
   "execution_count": 40,
   "id": "7c71a035",
   "metadata": {},
   "outputs": [],
   "source": [
    "def objective(trial):\n",
    "    \"\"\"Define the objective function\"\"\"\n",
    "\n",
    "    params = {\n",
    "        'max_depth': trial.suggest_int('max_depth', 1, 9),\n",
    "        'learning_rate': trial.suggest_loguniform('learning_rate', 0.01, 1.0),\n",
    "        'n_estimators': trial.suggest_int('n_estimators', 50, 500),\n",
    "        'min_child_weight': trial.suggest_int('min_child_weight', 1, 10),\n",
    "        'gamma': trial.suggest_loguniform('gamma', 1e-8, 1.0),\n",
    "        'subsample': trial.suggest_loguniform('subsample', 0.01, 1.0),\n",
    "        'colsample_bytree': trial.suggest_loguniform('colsample_bytree', 0.01, 1.0),\n",
    "        'reg_alpha': trial.suggest_loguniform('reg_alpha', 1e-8, 1.0),\n",
    "        'reg_lambda': trial.suggest_loguniform('reg_lambda', 1e-8, 1.0),\n",
    "        'eval_metric': 'mlogloss',\n",
    "        'use_label_encoder': False\n",
    "    }\n",
    "\n",
    "    # Fit the model\n",
    "    optuna_model = XGBClassifier(**params)\n",
    "    optuna_model.fit(df_train, y_train)\n",
    "\n",
    "    # Make predictions\n",
    "    y_test_pred = optuna_model.predict(df_test)\n",
    "\n",
    "    # Evaluate predictions\n",
    "    score = f1_score(y_test_pred, y_test)\n",
    "    return score\n"
   ]
  },
  {
   "cell_type": "code",
   "execution_count": 41,
   "id": "6562734c",
   "metadata": {},
   "outputs": [
    {
     "name": "stderr",
     "output_type": "stream",
     "text": [
      "\u001b[32m[I 2023-01-25 16:51:23,238]\u001b[0m A new study created in memory with name: no-name-a47fde09-595b-49c3-94f0-c16b4e4f047b\u001b[0m\n"
     ]
    }
   ],
   "source": [
    "study = optuna.create_study(direction='maximize')\n"
   ]
  },
  {
   "cell_type": "code",
   "execution_count": 42,
   "id": "06f54330",
   "metadata": {},
   "outputs": [
    {
     "name": "stderr",
     "output_type": "stream",
     "text": [
      "\u001b[32m[I 2023-01-25 16:51:24,918]\u001b[0m Trial 0 finished with value: 0.31788079470198677 and parameters: {'max_depth': 4, 'learning_rate': 0.021142640565775115, 'n_estimators': 279, 'min_child_weight': 3, 'gamma': 0.001413276550802883, 'subsample': 0.12921625102803042, 'colsample_bytree': 0.09676602546157671, 'reg_alpha': 0.06666312564808163, 'reg_lambda': 0.603206868080502}. Best is trial 0 with value: 0.31788079470198677.\u001b[0m\n",
      "\u001b[32m[I 2023-01-25 16:51:25,275]\u001b[0m Trial 1 finished with value: 0.5495905368516834 and parameters: {'max_depth': 7, 'learning_rate': 0.61902414973478, 'n_estimators': 306, 'min_child_weight': 4, 'gamma': 0.00013698952848039019, 'subsample': 0.11043800953590335, 'colsample_bytree': 0.016232653430057233, 'reg_alpha': 0.01557637541304442, 'reg_lambda': 0.00039713777197345265}. Best is trial 1 with value: 0.5495905368516834.\u001b[0m\n",
      "\u001b[32m[I 2023-01-25 16:51:25,631]\u001b[0m Trial 2 finished with value: 0.544256120527307 and parameters: {'max_depth': 7, 'learning_rate': 0.3897523637964193, 'n_estimators': 283, 'min_child_weight': 2, 'gamma': 1.745065663484178e-06, 'subsample': 0.08502184837972339, 'colsample_bytree': 0.13215804236408973, 'reg_alpha': 0.0005715972463633547, 'reg_lambda': 0.005501991452226315}. Best is trial 1 with value: 0.5495905368516834.\u001b[0m\n",
      "\u001b[32m[I 2023-01-25 16:51:25,848]\u001b[0m Trial 3 finished with value: 0.35038363171355497 and parameters: {'max_depth': 1, 'learning_rate': 0.032196048575006846, 'n_estimators': 254, 'min_child_weight': 1, 'gamma': 2.122951849099853e-08, 'subsample': 0.15744920937875612, 'colsample_bytree': 0.037848010331854566, 'reg_alpha': 7.670485293682055e-07, 'reg_lambda': 8.786645663574853e-08}. Best is trial 1 with value: 0.5495905368516834.\u001b[0m\n",
      "\u001b[32m[I 2023-01-25 16:51:25,968]\u001b[0m Trial 4 finished with value: 0.48368953880764903 and parameters: {'max_depth': 1, 'learning_rate': 0.18831597410261047, 'n_estimators': 144, 'min_child_weight': 6, 'gamma': 3.761202360596192e-08, 'subsample': 0.1344598904699981, 'colsample_bytree': 0.06606999008495688, 'reg_alpha': 1.6527940041230797e-06, 'reg_lambda': 0.012900690244506963}. Best is trial 1 with value: 0.5495905368516834.\u001b[0m\n",
      "\u001b[32m[I 2023-01-25 16:51:26,415]\u001b[0m Trial 5 finished with value: 0.5645004849660524 and parameters: {'max_depth': 3, 'learning_rate': 0.7388108301219691, 'n_estimators': 391, 'min_child_weight': 4, 'gamma': 0.00012013348085250707, 'subsample': 0.6765101842853047, 'colsample_bytree': 0.03143893976345171, 'reg_alpha': 0.00014533525136073425, 'reg_lambda': 3.412874534735501e-06}. Best is trial 5 with value: 0.5645004849660524.\u001b[0m\n",
      "\u001b[32m[I 2023-01-25 16:51:27,132]\u001b[0m Trial 6 finished with value: 0.5867446393762185 and parameters: {'max_depth': 7, 'learning_rate': 0.11708360802668827, 'n_estimators': 467, 'min_child_weight': 10, 'gamma': 2.2785702385518308e-05, 'subsample': 0.8238636619183238, 'colsample_bytree': 0.018122391663017566, 'reg_alpha': 0.0033845692657982077, 'reg_lambda': 0.03730367309915466}. Best is trial 6 with value: 0.5867446393762185.\u001b[0m\n",
      "\u001b[32m[I 2023-01-25 16:51:27,332]\u001b[0m Trial 7 finished with value: 0.5225390984360625 and parameters: {'max_depth': 3, 'learning_rate': 0.625332004009504, 'n_estimators': 263, 'min_child_weight': 3, 'gamma': 0.0002316541076827733, 'subsample': 0.016762818727254224, 'colsample_bytree': 0.014073887158836795, 'reg_alpha': 0.00012023008803197753, 'reg_lambda': 1.003454505909303e-06}. Best is trial 6 with value: 0.5867446393762185.\u001b[0m\n",
      "\u001b[32m[I 2023-01-25 16:51:27,585]\u001b[0m Trial 8 finished with value: 0.6248775710088149 and parameters: {'max_depth': 1, 'learning_rate': 0.32392423836041345, 'n_estimators': 346, 'min_child_weight': 9, 'gamma': 0.947995272861444, 'subsample': 0.48826172502916415, 'colsample_bytree': 0.03488503104476243, 'reg_alpha': 0.0028209851966074437, 'reg_lambda': 0.0005563728469527573}. Best is trial 8 with value: 0.6248775710088149.\u001b[0m\n",
      "\u001b[32m[I 2023-01-25 16:51:27,667]\u001b[0m Trial 9 finished with value: 0.0 and parameters: {'max_depth': 2, 'learning_rate': 0.012319433330850912, 'n_estimators': 112, 'min_child_weight': 5, 'gamma': 0.08347227604541602, 'subsample': 0.010742829384100568, 'colsample_bytree': 0.025677389492749177, 'reg_alpha': 0.1967230646185464, 'reg_lambda': 6.608196242997554e-05}. Best is trial 8 with value: 0.6248775710088149.\u001b[0m\n",
      "\u001b[32m[I 2023-01-25 16:51:28,478]\u001b[0m Trial 10 finished with value: 0.7410714285714286 and parameters: {'max_depth': 9, 'learning_rate': 0.24285869227147633, 'n_estimators': 493, 'min_child_weight': 10, 'gamma': 0.7656433213365785, 'subsample': 0.40949538146402426, 'colsample_bytree': 0.30648046741245083, 'reg_alpha': 0.954104946578658, 'reg_lambda': 1.550278698246551e-08}. Best is trial 10 with value: 0.7410714285714286.\u001b[0m\n",
      "\u001b[32m[I 2023-01-25 16:51:29,392]\u001b[0m Trial 11 finished with value: 0.7413333333333333 and parameters: {'max_depth': 9, 'learning_rate': 0.2689943263853902, 'n_estimators': 488, 'min_child_weight': 10, 'gamma': 0.7613924891796248, 'subsample': 0.47165604464171335, 'colsample_bytree': 0.4566125151818078, 'reg_alpha': 0.890046465813778, 'reg_lambda': 1.4001003660567574e-08}. Best is trial 11 with value: 0.7413333333333333.\u001b[0m\n",
      "\u001b[32m[I 2023-01-25 16:51:30,305]\u001b[0m Trial 12 finished with value: 0.7612208258527827 and parameters: {'max_depth': 9, 'learning_rate': 0.08189580365502738, 'n_estimators': 499, 'min_child_weight': 8, 'gamma': 0.028863836926649997, 'subsample': 0.3391158605510429, 'colsample_bytree': 0.5280186645626035, 'reg_alpha': 0.9467102153224399, 'reg_lambda': 1.3047146026381218e-08}. Best is trial 12 with value: 0.7612208258527827.\u001b[0m\n",
      "\u001b[32m[I 2023-01-25 16:51:31,124]\u001b[0m Trial 13 finished with value: 0.7715827338129496 and parameters: {'max_depth': 9, 'learning_rate': 0.06331657486098541, 'n_estimators': 425, 'min_child_weight': 8, 'gamma': 0.016127997623712968, 'subsample': 0.30806941675766986, 'colsample_bytree': 0.9974207860325833, 'reg_alpha': 0.8202102992530856, 'reg_lambda': 4.25484830462284e-08}. Best is trial 13 with value: 0.7715827338129496.\u001b[0m\n",
      "\u001b[32m[I 2023-01-25 16:51:31,843]\u001b[0m Trial 14 finished with value: 0.770197486535009 and parameters: {'max_depth': 8, 'learning_rate': 0.05599425521220639, 'n_estimators': 412, 'min_child_weight': 7, 'gamma': 0.018035614974678624, 'subsample': 0.2790161679280007, 'colsample_bytree': 0.9594618608259039, 'reg_alpha': 0.05848609058305389, 'reg_lambda': 2.71384034203429e-07}. Best is trial 13 with value: 0.7715827338129496.\u001b[0m\n",
      "\u001b[32m[I 2023-01-25 16:51:32,528]\u001b[0m Trial 15 finished with value: 0.7670250896057349 and parameters: {'max_depth': 6, 'learning_rate': 0.0581715671505261, 'n_estimators': 410, 'min_child_weight': 7, 'gamma': 0.005578013488668501, 'subsample': 0.23609000015914197, 'colsample_bytree': 0.5901976418492579, 'reg_alpha': 0.03680838903811725, 'reg_lambda': 4.6421541280973284e-07}. Best is trial 13 with value: 0.7715827338129496.\u001b[0m\n",
      "\u001b[32m[I 2023-01-25 16:51:33,753]\u001b[0m Trial 16 finished with value: 0.7631103074141048 and parameters: {'max_depth': 8, 'learning_rate': 0.05185712069086811, 'n_estimators': 408, 'min_child_weight': 7, 'gamma': 0.006115445935317373, 'subsample': 0.9080660917437325, 'colsample_bytree': 0.9987209713056596, 'reg_alpha': 9.321432356402551e-06, 'reg_lambda': 3.2531621754113393e-06}. Best is trial 13 with value: 0.7715827338129496.\u001b[0m\n",
      "\u001b[32m[I 2023-01-25 16:51:34,328]\u001b[0m Trial 17 finished with value: 0.7646528403967539 and parameters: {'max_depth': 5, 'learning_rate': 0.12101863451847077, 'n_estimators': 350, 'min_child_weight': 8, 'gamma': 0.037657197870883195, 'subsample': 0.24532770799586273, 'colsample_bytree': 0.8753017693736583, 'reg_alpha': 0.014119887138761243, 'reg_lambda': 1.8575104113135278e-07}. Best is trial 13 with value: 0.7715827338129496.\u001b[0m\n",
      "\u001b[32m[I 2023-01-25 16:51:34,551]\u001b[0m Trial 18 finished with value: 0.46543778801843316 and parameters: {'max_depth': 8, 'learning_rate': 0.042800731417444164, 'n_estimators': 205, 'min_child_weight': 6, 'gamma': 0.001254750769030035, 'subsample': 0.05765884695228032, 'colsample_bytree': 0.27294199250292656, 'reg_alpha': 1.0327925036903496e-08, 'reg_lambda': 1.602473077728958e-05}. Best is trial 13 with value: 0.7715827338129496.\u001b[0m\n",
      "\u001b[32m[I 2023-01-25 16:51:35,067]\u001b[0m Trial 19 finished with value: 0.5893909626719057 and parameters: {'max_depth': 6, 'learning_rate': 0.07449997959894752, 'n_estimators': 441, 'min_child_weight': 8, 'gamma': 0.11130582880329033, 'subsample': 0.255257233156376, 'colsample_bytree': 0.23219581329105035, 'reg_alpha': 0.12341457349543762, 'reg_lambda': 1.3579991132906892e-07}. Best is trial 13 with value: 0.7715827338129496.\u001b[0m\n"
     ]
    },
    {
     "name": "stderr",
     "output_type": "stream",
     "text": [
      "\u001b[32m[I 2023-01-25 16:51:35,971]\u001b[0m Trial 20 finished with value: 0.773841961852861 and parameters: {'max_depth': 8, 'learning_rate': 0.03091091171368688, 'n_estimators': 340, 'min_child_weight': 7, 'gamma': 0.01525650031266556, 'subsample': 0.5718077014376609, 'colsample_bytree': 0.7453317509198919, 'reg_alpha': 0.1474310377787878, 'reg_lambda': 1.8632716480231495e-06}. Best is trial 20 with value: 0.773841961852861.\u001b[0m\n",
      "\u001b[32m[I 2023-01-25 16:51:36,972]\u001b[0m Trial 21 finished with value: 0.770625566636446 and parameters: {'max_depth': 8, 'learning_rate': 0.027831389582901503, 'n_estimators': 347, 'min_child_weight': 7, 'gamma': 0.012327136505286775, 'subsample': 0.6044398279554434, 'colsample_bytree': 0.9936796392637471, 'reg_alpha': 0.04634117386250661, 'reg_lambda': 5.105707004801506e-07}. Best is trial 20 with value: 0.773841961852861.\u001b[0m\n",
      "\u001b[32m[I 2023-01-25 16:51:37,854]\u001b[0m Trial 22 finished with value: 0.7602552415679126 and parameters: {'max_depth': 8, 'learning_rate': 0.029055147082097305, 'n_estimators': 350, 'min_child_weight': 9, 'gamma': 0.002115989345987911, 'subsample': 0.6284695004431323, 'colsample_bytree': 0.497475565709736, 'reg_alpha': 0.2041299304073916, 'reg_lambda': 2.005559339933868e-06}. Best is trial 20 with value: 0.773841961852861.\u001b[0m\n",
      "\u001b[32m[I 2023-01-25 16:51:38,656]\u001b[0m Trial 23 finished with value: 0.7660764212488349 and parameters: {'max_depth': 9, 'learning_rate': 0.019082604218618935, 'n_estimators': 208, 'min_child_weight': 5, 'gamma': 0.15299292044948565, 'subsample': 0.9586312955094055, 'colsample_bytree': 0.6015457452853387, 'reg_alpha': 0.005124683525875297, 'reg_lambda': 9.838161603134648e-06}. Best is trial 20 with value: 0.773841961852861.\u001b[0m\n",
      "\u001b[32m[I 2023-01-25 16:51:39,426]\u001b[0m Trial 24 finished with value: 0.7791970802919707 and parameters: {'max_depth': 6, 'learning_rate': 0.03392430054877264, 'n_estimators': 329, 'min_child_weight': 7, 'gamma': 0.004131997757892637, 'subsample': 0.5839321335057758, 'colsample_bytree': 0.7391045170473989, 'reg_alpha': 0.20547038314196922, 'reg_lambda': 6.928601375563429e-08}. Best is trial 24 with value: 0.7791970802919707.\u001b[0m\n",
      "\u001b[32m[I 2023-01-25 16:51:39,979]\u001b[0m Trial 25 finished with value: 0.648068669527897 and parameters: {'max_depth': 6, 'learning_rate': 0.011129194858940775, 'n_estimators': 310, 'min_child_weight': 9, 'gamma': 0.0005253602382001154, 'subsample': 0.43854179197903215, 'colsample_bytree': 0.35294912251983673, 'reg_alpha': 0.2757403685076469, 'reg_lambda': 4.8308695219114584e-08}. Best is trial 24 with value: 0.7791970802919707.\u001b[0m\n",
      "\u001b[32m[I 2023-01-25 16:51:40,163]\u001b[0m Trial 26 finished with value: 0.7458937198067634 and parameters: {'max_depth': 5, 'learning_rate': 0.039353644758201585, 'n_estimators': 60, 'min_child_weight': 6, 'gamma': 0.0027931800054040766, 'subsample': 0.984170699772487, 'colsample_bytree': 0.6926791787479954, 'reg_alpha': 0.281837294404795, 'reg_lambda': 7.184983954393993e-08}. Best is trial 24 with value: 0.7791970802919707.\u001b[0m\n",
      "\u001b[32m[I 2023-01-25 16:51:41,059]\u001b[0m Trial 27 finished with value: 0.7408759124087592 and parameters: {'max_depth': 7, 'learning_rate': 0.0835410951852107, 'n_estimators': 382, 'min_child_weight': 8, 'gamma': 0.008938916752991532, 'subsample': 0.5921636035401521, 'colsample_bytree': 0.37932170479156807, 'reg_alpha': 0.013367491644360744, 'reg_lambda': 1.027901435773178e-06}. Best is trial 24 with value: 0.7791970802919707.\u001b[0m\n",
      "\u001b[32m[I 2023-01-25 16:51:41,703]\u001b[0m Trial 28 finished with value: 0.7736549165120593 and parameters: {'max_depth': 6, 'learning_rate': 0.01950687490269923, 'n_estimators': 231, 'min_child_weight': 7, 'gamma': 0.0005728008662724048, 'subsample': 0.32968409873853965, 'colsample_bytree': 0.722846671593966, 'reg_alpha': 0.001302658380986445, 'reg_lambda': 6.044972652803313e-08}. Best is trial 24 with value: 0.7791970802919707.\u001b[0m\n",
      "\u001b[32m[I 2023-01-25 16:51:42,103]\u001b[0m Trial 29 finished with value: 0.2531645569620253 and parameters: {'max_depth': 4, 'learning_rate': 0.020172340224610032, 'n_estimators': 206, 'min_child_weight': 5, 'gamma': 0.000601144159249022, 'subsample': 0.1871858647136103, 'colsample_bytree': 0.17800699860147856, 'reg_alpha': 0.0017231055791594658, 'reg_lambda': 2.4295053837106833e-07}. Best is trial 24 with value: 0.7791970802919707.\u001b[0m\n",
      "\u001b[32m[I 2023-01-25 16:51:42,661]\u001b[0m Trial 30 finished with value: 0.749034749034749 and parameters: {'max_depth': 4, 'learning_rate': 0.015417323461790993, 'n_estimators': 235, 'min_child_weight': 6, 'gamma': 2.8431399632744712e-05, 'subsample': 0.3662310225108532, 'colsample_bytree': 0.7067170981650241, 'reg_alpha': 0.0006124183172567961, 'reg_lambda': 3.389083379777742e-08}. Best is trial 24 with value: 0.7791970802919707.\u001b[0m\n",
      "\u001b[32m[I 2023-01-25 16:51:43,515]\u001b[0m Trial 31 finished with value: 0.7740164684354985 and parameters: {'max_depth': 6, 'learning_rate': 0.02024741565228659, 'n_estimators': 317, 'min_child_weight': 7, 'gamma': 0.003319127788751257, 'subsample': 0.31598233523015545, 'colsample_bytree': 0.7325757682385389, 'reg_alpha': 0.07655402392761411, 'reg_lambda': 3.4416879769358095e-08}. Best is trial 24 with value: 0.7791970802919707.\u001b[0m\n",
      "\u001b[32m[I 2023-01-25 16:51:44,250]\u001b[0m Trial 32 finished with value: 0.7298850574712644 and parameters: {'max_depth': 6, 'learning_rate': 0.02385782568328437, 'n_estimators': 317, 'min_child_weight': 7, 'gamma': 0.0019051970185739245, 'subsample': 0.38811699582341486, 'colsample_bytree': 0.396003104467531, 'reg_alpha': 0.09115829486805306, 'reg_lambda': 1.1391493255457713e-08}. Best is trial 24 with value: 0.7791970802919707.\u001b[0m\n",
      "\u001b[32m[I 2023-01-25 16:51:45,015]\u001b[0m Trial 33 finished with value: 0.7606433301797539 and parameters: {'max_depth': 5, 'learning_rate': 0.015938583266733964, 'n_estimators': 289, 'min_child_weight': 7, 'gamma': 0.004276836936723117, 'subsample': 0.5402954403979509, 'colsample_bytree': 0.6921367352099291, 'reg_alpha': 0.02196785382047373, 'reg_lambda': 1.0204374049081404e-07}. Best is trial 24 with value: 0.7791970802919707.\u001b[0m\n",
      "\u001b[32m[I 2023-01-25 16:51:45,771]\u001b[0m Trial 34 finished with value: 0.7665116279069768 and parameters: {'max_depth': 7, 'learning_rate': 0.03664352641822495, 'n_estimators': 237, 'min_child_weight': 4, 'gamma': 0.0013203786030859665, 'subsample': 0.723960397718292, 'colsample_bytree': 0.46397044784847424, 'reg_alpha': 0.00866822869670904, 'reg_lambda': 5.7106603448103e-07}. Best is trial 24 with value: 0.7791970802919707.\u001b[0m\n",
      "\u001b[32m[I 2023-01-25 16:51:46,161]\u001b[0m Trial 35 finished with value: 0.7558906691800188 and parameters: {'max_depth': 6, 'learning_rate': 0.024653715404483738, 'n_estimators': 168, 'min_child_weight': 6, 'gamma': 0.00019679138573550518, 'subsample': 0.17441445369811362, 'colsample_bytree': 0.6651453181798137, 'reg_alpha': 0.03222488070055134, 'reg_lambda': 1.372608406787984e-07}. Best is trial 24 with value: 0.7791970802919707.\u001b[0m\n",
      "\u001b[32m[I 2023-01-25 16:51:46,700]\u001b[0m Trial 36 finished with value: 0.46659116647791626 and parameters: {'max_depth': 7, 'learning_rate': 0.031099129500463795, 'n_estimators': 322, 'min_child_weight': 9, 'gamma': 0.0004915077351705144, 'subsample': 0.3381627598169969, 'colsample_bytree': 0.21558931304916915, 'reg_alpha': 0.08175014544032307, 'reg_lambda': 4.160770175782255e-08}. Best is trial 24 with value: 0.7791970802919707.\u001b[0m\n",
      "\u001b[32m[I 2023-01-25 16:51:47,309]\u001b[0m Trial 37 finished with value: 0.6358635863586358 and parameters: {'max_depth': 5, 'learning_rate': 0.010146075241285153, 'n_estimators': 287, 'min_child_weight': 5, 'gamma': 4.432995280836544e-05, 'subsample': 0.4981876744199092, 'colsample_bytree': 0.32495374168581337, 'reg_alpha': 0.008465124697889221, 'reg_lambda': 1.6006703336948697e-06}. Best is trial 24 with value: 0.7791970802919707.\u001b[0m\n",
      "\u001b[32m[I 2023-01-25 16:51:48,103]\u001b[0m Trial 38 finished with value: 0.3813038130381304 and parameters: {'max_depth': 7, 'learning_rate': 0.0199555379857841, 'n_estimators': 373, 'min_child_weight': 6, 'gamma': 0.004796262564008982, 'subsample': 0.6928355027057247, 'colsample_bytree': 0.10825923637726526, 'reg_alpha': 0.0010285150544163703, 'reg_lambda': 3.802752709689592e-07}. Best is trial 24 with value: 0.7791970802919707.\u001b[0m\n"
     ]
    },
    {
     "name": "stderr",
     "output_type": "stream",
     "text": [
      "\u001b[32m[I 2023-01-25 16:51:48,665]\u001b[0m Trial 39 finished with value: 0.7679403541472507 and parameters: {'max_depth': 6, 'learning_rate': 0.015323288373452862, 'n_estimators': 263, 'min_child_weight': 7, 'gamma': 7.853221363867588e-05, 'subsample': 0.20753741540038853, 'colsample_bytree': 0.7695505844313545, 'reg_alpha': 0.004738139038095633, 'reg_lambda': 9.462568265068621e-08}. Best is trial 24 with value: 0.7791970802919707.\u001b[0m\n",
      "\u001b[32m[I 2023-01-25 16:51:49,366]\u001b[0m Trial 40 finished with value: 0.7630597014925373 and parameters: {'max_depth': 4, 'learning_rate': 0.032582410352210225, 'n_estimators': 329, 'min_child_weight': 8, 'gamma': 1.2451025044068297e-05, 'subsample': 0.7253550350927503, 'colsample_bytree': 0.5212374135466615, 'reg_alpha': 0.00040756054235291904, 'reg_lambda': 2.8471204134997857e-08}. Best is trial 24 with value: 0.7791970802919707.\u001b[0m\n",
      "\u001b[32m[I 2023-01-25 16:51:50,549]\u001b[0m Trial 41 finished with value: 0.7761732851985559 and parameters: {'max_depth': 8, 'learning_rate': 0.025379080820385626, 'n_estimators': 430, 'min_child_weight': 8, 'gamma': 0.015745914427431916, 'subsample': 0.32724428018980667, 'colsample_bytree': 0.860420006824966, 'reg_alpha': 0.39797416523512213, 'reg_lambda': 4.114594713430735e-08}. Best is trial 24 with value: 0.7791970802919707.\u001b[0m\n",
      "\u001b[32m[I 2023-01-25 16:51:51,527]\u001b[0m Trial 42 finished with value: 0.7688123300090661 and parameters: {'max_depth': 7, 'learning_rate': 0.024956210810880262, 'n_estimators': 369, 'min_child_weight': 8, 'gamma': 0.03943517444833399, 'subsample': 0.43769289024228153, 'colsample_bytree': 0.7887318330982628, 'reg_alpha': 0.41929415479194304, 'reg_lambda': 2.276422863453108e-08}. Best is trial 24 with value: 0.7791970802919707.\u001b[0m\n",
      "\u001b[32m[I 2023-01-25 16:51:52,215]\u001b[0m Trial 43 finished with value: 0.7592592592592592 and parameters: {'max_depth': 3, 'learning_rate': 0.03991573647039511, 'n_estimators': 457, 'min_child_weight': 2, 'gamma': 0.0008606401418105763, 'subsample': 0.30697160277441937, 'colsample_bytree': 0.6253279565952333, 'reg_alpha': 0.10937876996804387, 'reg_lambda': 7.2189661892854e-08}. Best is trial 24 with value: 0.7791970802919707.\u001b[0m\n",
      "\u001b[32m[I 2023-01-25 16:51:52,786]\u001b[0m Trial 44 finished with value: 0.7530516431924883 and parameters: {'max_depth': 8, 'learning_rate': 0.021852477989888666, 'n_estimators': 283, 'min_child_weight': 7, 'gamma': 0.002906254221292269, 'subsample': 0.1325072642101624, 'colsample_bytree': 0.4452540607658265, 'reg_alpha': 0.0327735330579041, 'reg_lambda': 2.0304004751261336e-07}. Best is trial 24 with value: 0.7791970802919707.\u001b[0m\n",
      "\u001b[32m[I 2023-01-25 16:51:53,492]\u001b[0m Trial 45 finished with value: 0.7610294117647058 and parameters: {'max_depth': 6, 'learning_rate': 0.04613402033438873, 'n_estimators': 298, 'min_child_weight': 9, 'gamma': 0.010432034518986721, 'subsample': 0.5296611314030079, 'colsample_bytree': 0.5537128993341602, 'reg_alpha': 0.4210143761696337, 'reg_lambda': 1.3414127424005155e-08}. Best is trial 24 with value: 0.7791970802919707.\u001b[0m\n",
      "\u001b[32m[I 2023-01-25 16:51:54,192]\u001b[0m Trial 46 finished with value: 0.7709497206703911 and parameters: {'max_depth': 7, 'learning_rate': 0.013084922536642484, 'n_estimators': 243, 'min_child_weight': 6, 'gamma': 0.0003913929297231439, 'subsample': 0.4079659882020556, 'colsample_bytree': 0.7917933042891276, 'reg_alpha': 0.13304919405814838, 'reg_lambda': 3.1099383613267225e-08}. Best is trial 24 with value: 0.7791970802919707.\u001b[0m\n",
      "\u001b[32m[I 2023-01-25 16:51:54,656]\u001b[0m Trial 47 finished with value: 0.7699530516431925 and parameters: {'max_depth': 5, 'learning_rate': 0.033799757352499175, 'n_estimators': 161, 'min_child_weight': 8, 'gamma': 0.001259212424678201, 'subsample': 0.7610925679053104, 'colsample_bytree': 0.8231501884751278, 'reg_alpha': 0.023086548972108364, 'reg_lambda': 1.0356048149605671e-08}. Best is trial 24 with value: 0.7791970802919707.\u001b[0m\n",
      "\u001b[32m[I 2023-01-25 16:51:55,545]\u001b[0m Trial 48 finished with value: 0.7584269662921349 and parameters: {'max_depth': 7, 'learning_rate': 0.01736361757030233, 'n_estimators': 393, 'min_child_weight': 7, 'gamma': 0.02150890636954228, 'subsample': 0.3009800677746217, 'colsample_bytree': 0.4389663443425274, 'reg_alpha': 0.39238501840586026, 'reg_lambda': 6.058176178639617e-08}. Best is trial 24 with value: 0.7791970802919707.\u001b[0m\n",
      "\u001b[32m[I 2023-01-25 16:51:56,189]\u001b[0m Trial 49 finished with value: 0.7518939393939393 and parameters: {'max_depth': 8, 'learning_rate': 0.01407519702129219, 'n_estimators': 263, 'min_child_weight': 9, 'gamma': 0.060123134780830895, 'subsample': 0.21579852208349007, 'colsample_bytree': 0.589518022032566, 'reg_alpha': 0.07059000660566349, 'reg_lambda': 7.569081441027e-07}. Best is trial 24 with value: 0.7791970802919707.\u001b[0m\n",
      "\u001b[32m[I 2023-01-25 16:51:57,355]\u001b[0m Trial 50 finished with value: 0.7692307692307693 and parameters: {'max_depth': 6, 'learning_rate': 0.01280019273441494, 'n_estimators': 329, 'min_child_weight': 4, 'gamma': 0.006391631285468242, 'subsample': 0.3461048844196018, 'colsample_bytree': 0.828354707107939, 'reg_alpha': 0.20349315970510054, 'reg_lambda': 2.948646827692711e-07}. Best is trial 24 with value: 0.7791970802919707.\u001b[0m\n",
      "\u001b[32m[I 2023-01-25 16:51:58,983]\u001b[0m Trial 51 finished with value: 0.7713248638838475 and parameters: {'max_depth': 9, 'learning_rate': 0.02777495387980664, 'n_estimators': 430, 'min_child_weight': 8, 'gamma': 0.020106514114731917, 'subsample': 0.27754905584199907, 'colsample_bytree': 0.9839246518736675, 'reg_alpha': 0.5798385436047251, 'reg_lambda': 2.9262406576408738e-08}. Best is trial 24 with value: 0.7791970802919707.\u001b[0m\n",
      "\u001b[32m[I 2023-01-25 16:52:00,471]\u001b[0m Trial 52 finished with value: 0.7635379061371842 and parameters: {'max_depth': 9, 'learning_rate': 0.04935668897130041, 'n_estimators': 478, 'min_child_weight': 8, 'gamma': 0.0028699055107709436, 'subsample': 0.47456352063364193, 'colsample_bytree': 0.8604243782649166, 'reg_alpha': 0.9500601895145218, 'reg_lambda': 1.2166675380201323e-07}. Best is trial 24 with value: 0.7791970802919707.\u001b[0m\n",
      "\u001b[32m[I 2023-01-25 16:52:01,525]\u001b[0m Trial 53 finished with value: 0.7652968036529679 and parameters: {'max_depth': 9, 'learning_rate': 0.022731435729308892, 'n_estimators': 437, 'min_child_weight': 7, 'gamma': 0.011663929500543256, 'subsample': 0.27047221475853533, 'colsample_bytree': 0.6527991120128668, 'reg_alpha': 0.506325975422949, 'reg_lambda': 2.279115304047359e-08}. Best is trial 24 with value: 0.7791970802919707.\u001b[0m\n",
      "\u001b[32m[I 2023-01-25 16:52:02,463]\u001b[0m Trial 54 finished with value: 0.7594254937163376 and parameters: {'max_depth': 8, 'learning_rate': 0.05915002325311759, 'n_estimators': 404, 'min_child_weight': 10, 'gamma': 0.21358425133893993, 'subsample': 0.3621248879074743, 'colsample_bytree': 0.5186166060643986, 'reg_alpha': 0.19371878191347713, 'reg_lambda': 2.0656283979105073e-07}. Best is trial 24 with value: 0.7791970802919707.\u001b[0m\n",
      "\u001b[32m[I 2023-01-25 16:52:03,802]\u001b[0m Trial 55 finished with value: 0.7756584922797457 and parameters: {'max_depth': 9, 'learning_rate': 0.018494869688362343, 'n_estimators': 357, 'min_child_weight': 8, 'gamma': 0.04179476322449802, 'subsample': 0.8243782203114818, 'colsample_bytree': 0.9470387138386626, 'reg_alpha': 0.06224545030631486, 'reg_lambda': 6.827764180447992e-08}. Best is trial 24 with value: 0.7791970802919707.\u001b[0m\n",
      "\u001b[32m[I 2023-01-25 16:52:05,100]\u001b[0m Trial 56 finished with value: 0.7700729927007299 and parameters: {'max_depth': 8, 'learning_rate': 0.018424673123366472, 'n_estimators': 362, 'min_child_weight': 7, 'gamma': 0.04643354726540572, 'subsample': 0.8352420995275974, 'colsample_bytree': 0.7382978072130219, 'reg_alpha': 0.057675971394501716, 'reg_lambda': 6.762009894612994e-08}. Best is trial 24 with value: 0.7791970802919707.\u001b[0m\n",
      "\u001b[32m[I 2023-01-25 16:52:05,960]\u001b[0m Trial 57 finished with value: 0.700497512437811 and parameters: {'max_depth': 9, 'learning_rate': 0.0170034537509954, 'n_estimators': 304, 'min_child_weight': 8, 'gamma': 0.027762935681544122, 'subsample': 0.5863020332755492, 'colsample_bytree': 0.41084556681218204, 'reg_alpha': 0.051403573746947234, 'reg_lambda': 3.7945541075247957e-07}. Best is trial 24 with value: 0.7791970802919707.\u001b[0m\n",
      "\u001b[32m[I 2023-01-25 16:52:07,045]\u001b[0m Trial 58 finished with value: 0.7582417582417583 and parameters: {'max_depth': 8, 'learning_rate': 0.02802243445720461, 'n_estimators': 338, 'min_child_weight': 6, 'gamma': 0.0902433824212294, 'subsample': 0.7790176156416058, 'colsample_bytree': 0.564455650428221, 'reg_alpha': 0.14726141355824882, 'reg_lambda': 1.33003842176965e-06}. Best is trial 24 with value: 0.7791970802919707.\u001b[0m\n"
     ]
    },
    {
     "name": "stderr",
     "output_type": "stream",
     "text": [
      "\u001b[32m[I 2023-01-25 16:52:08,454]\u001b[0m Trial 59 finished with value: 0.7760652765185856 and parameters: {'max_depth': 7, 'learning_rate': 0.021021667654558793, 'n_estimators': 458, 'min_child_weight': 7, 'gamma': 0.007943220894465499, 'subsample': 0.5970978302518681, 'colsample_bytree': 0.8719411481616807, 'reg_alpha': 0.016615900060493037, 'reg_lambda': 7.840705553270719e-07}. Best is trial 24 with value: 0.7791970802919707.\u001b[0m\n",
      "\u001b[32m[I 2023-01-25 16:52:09,908]\u001b[0m Trial 60 finished with value: 0.7706093189964157 and parameters: {'max_depth': 8, 'learning_rate': 0.0373261396544687, 'n_estimators': 464, 'min_child_weight': 9, 'gamma': 0.29343035907415765, 'subsample': 0.627804773696056, 'colsample_bytree': 0.8962068239578174, 'reg_alpha': 0.01502251664358741, 'reg_lambda': 7.279976914488564e-07}. Best is trial 24 with value: 0.7791970802919707.\u001b[0m\n",
      "\u001b[32m[I 2023-01-25 16:52:11,163]\u001b[0m Trial 61 finished with value: 0.7761732851985559 and parameters: {'max_depth': 7, 'learning_rate': 0.023349694283867246, 'n_estimators': 448, 'min_child_weight': 7, 'gamma': 0.007938722914275892, 'subsample': 0.49971869523179385, 'colsample_bytree': 0.9933275151701486, 'reg_alpha': 0.038327071679472476, 'reg_lambda': 1.4009451297507075e-07}. Best is trial 24 with value: 0.7791970802919707.\u001b[0m\n",
      "\u001b[32m[I 2023-01-25 16:52:12,413]\u001b[0m Trial 62 finished with value: 0.7775768535262205 and parameters: {'max_depth': 7, 'learning_rate': 0.02243103803828845, 'n_estimators': 446, 'min_child_weight': 8, 'gamma': 0.008588591612587773, 'subsample': 0.5188682168087705, 'colsample_bytree': 0.9034407056224348, 'reg_alpha': 0.03299027603080899, 'reg_lambda': 3.6635683778677932e-06}. Best is trial 24 with value: 0.7791970802919707.\u001b[0m\n",
      "\u001b[32m[I 2023-01-25 16:52:14,075]\u001b[0m Trial 63 finished with value: 0.7650273224043717 and parameters: {'max_depth': 7, 'learning_rate': 0.02325526044036483, 'n_estimators': 449, 'min_child_weight': 8, 'gamma': 0.010344428552793678, 'subsample': 0.8286856984765779, 'colsample_bytree': 0.9477476659750009, 'reg_alpha': 0.03692748483587062, 'reg_lambda': 2.1872300335758648e-07}. Best is trial 24 with value: 0.7791970802919707.\u001b[0m\n",
      "\u001b[32m[I 2023-01-25 16:52:15,627]\u001b[0m Trial 64 finished with value: 0.7734303912647862 and parameters: {'max_depth': 7, 'learning_rate': 0.011839499915878694, 'n_estimators': 483, 'min_child_weight': 8, 'gamma': 0.005815259699332665, 'subsample': 0.4594737882305918, 'colsample_bytree': 0.9983932457025759, 'reg_alpha': 0.02555331764582826, 'reg_lambda': 5.225508140720687e-06}. Best is trial 24 with value: 0.7791970802919707.\u001b[0m\n",
      "\u001b[32m[I 2023-01-25 16:52:16,829]\u001b[0m Trial 65 finished with value: 0.7733089579524681 and parameters: {'max_depth': 7, 'learning_rate': 0.021040170485195027, 'n_estimators': 425, 'min_child_weight': 9, 'gamma': 0.06943220248111127, 'subsample': 0.5198384974097354, 'colsample_bytree': 0.8543971521531496, 'reg_alpha': 0.05805316955652743, 'reg_lambda': 1.308165032018047e-07}. Best is trial 24 with value: 0.7791970802919707.\u001b[0m\n",
      "\u001b[32m[I 2023-01-25 16:52:18,053]\u001b[0m Trial 66 finished with value: 0.7696629213483145 and parameters: {'max_depth': 6, 'learning_rate': 0.01473168366721671, 'n_estimators': 419, 'min_child_weight': 1, 'gamma': 0.028916391463958826, 'subsample': 0.6695857156791944, 'colsample_bytree': 0.5979660488913371, 'reg_alpha': 0.24361783940077728, 'reg_lambda': 5.099831720896223e-07}. Best is trial 24 with value: 0.7791970802919707.\u001b[0m\n",
      "\u001b[32m[I 2023-01-25 16:52:19,238]\u001b[0m Trial 67 finished with value: 0.7676767676767675 and parameters: {'max_depth': 7, 'learning_rate': 0.017150886030512933, 'n_estimators': 471, 'min_child_weight': 7, 'gamma': 0.0036691793006186964, 'subsample': 0.40661798432716173, 'colsample_bytree': 0.6800383170160096, 'reg_alpha': 0.009878384036452165, 'reg_lambda': 2.2049374759130725e-08}. Best is trial 24 with value: 0.7791970802919707.\u001b[0m\n",
      "\u001b[32m[I 2023-01-25 16:52:20,495]\u001b[0m Trial 68 finished with value: 0.7543698252069917 and parameters: {'max_depth': 7, 'learning_rate': 0.027224948886615145, 'n_estimators': 400, 'min_child_weight': 6, 'gamma': 0.008190303575898596, 'subsample': 0.8842105972477249, 'colsample_bytree': 0.490731185322351, 'reg_alpha': 0.004456299549307414, 'reg_lambda': 5.0164309020217255e-08}. Best is trial 24 with value: 0.7791970802919707.\u001b[0m\n",
      "\u001b[32m[I 2023-01-25 16:52:21,759]\u001b[0m Trial 69 finished with value: 0.7724388032638259 and parameters: {'max_depth': 6, 'learning_rate': 0.02579357337219032, 'n_estimators': 453, 'min_child_weight': 10, 'gamma': 0.016922602576051007, 'subsample': 0.570269137895515, 'colsample_bytree': 0.860164475200474, 'reg_alpha': 0.01902121169384475, 'reg_lambda': 8.636503673836939e-07}. Best is trial 24 with value: 0.7791970802919707.\u001b[0m\n",
      "\u001b[32m[I 2023-01-25 16:52:23,453]\u001b[0m Trial 70 finished with value: 0.7611262488646684 and parameters: {'max_depth': 8, 'learning_rate': 0.03422026631876637, 'n_estimators': 493, 'min_child_weight': 7, 'gamma': 0.0015792321196600792, 'subsample': 0.9868450848207528, 'colsample_bytree': 0.6329473106082547, 'reg_alpha': 0.06694394116188865, 'reg_lambda': 1.0308152249974327e-07}. Best is trial 24 with value: 0.7791970802919707.\u001b[0m\n",
      "\u001b[32m[I 2023-01-25 16:52:24,475]\u001b[0m Trial 71 finished with value: 0.7753623188405797 and parameters: {'max_depth': 8, 'learning_rate': 0.031315333870759014, 'n_estimators': 356, 'min_child_weight': 8, 'gamma': 0.01650829558822212, 'subsample': 0.48937271285464584, 'colsample_bytree': 0.7471612815000606, 'reg_alpha': 0.09151542945097187, 'reg_lambda': 2.4225328744869157e-06}. Best is trial 24 with value: 0.7791970802919707.\u001b[0m\n",
      "\u001b[32m[I 2023-01-25 16:52:25,994]\u001b[0m Trial 72 finished with value: 0.7679708826205641 and parameters: {'max_depth': 9, 'learning_rate': 0.020836171829079174, 'n_estimators': 445, 'min_child_weight': 8, 'gamma': 0.043578866896282646, 'subsample': 0.6600534383283063, 'colsample_bytree': 0.7933595334680623, 'reg_alpha': 0.10556291651687763, 'reg_lambda': 3.6024128124900813e-06}. Best is trial 24 with value: 0.7791970802919707.\u001b[0m\n",
      "\u001b[32m[I 2023-01-25 16:52:27,069]\u001b[0m Trial 73 finished with value: 0.7647593097184378 and parameters: {'max_depth': 8, 'learning_rate': 0.042867951226822146, 'n_estimators': 386, 'min_child_weight': 8, 'gamma': 0.015404389532160867, 'subsample': 0.4817677078719375, 'colsample_bytree': 0.7436681635477261, 'reg_alpha': 0.2696075803139532, 'reg_lambda': 3.702282605516416e-07}. Best is trial 24 with value: 0.7791970802919707.\u001b[0m\n",
      "\u001b[32m[I 2023-01-25 16:52:27,990]\u001b[0m Trial 74 finished with value: 0.7724388032638259 and parameters: {'max_depth': 7, 'learning_rate': 0.03095018977611986, 'n_estimators': 364, 'min_child_weight': 9, 'gamma': 0.004687304624398382, 'subsample': 0.3922785006408934, 'colsample_bytree': 0.9244530169690541, 'reg_alpha': 0.1137422682334671, 'reg_lambda': 2.215340281147556e-06}. Best is trial 24 with value: 0.7791970802919707.\u001b[0m\n",
      "\u001b[32m[I 2023-01-25 16:52:28,926]\u001b[0m Trial 75 finished with value: 0.7710843373493975 and parameters: {'max_depth': 5, 'learning_rate': 0.01928009041943841, 'n_estimators': 377, 'min_child_weight': 7, 'gamma': 0.03328377051315008, 'subsample': 0.5241580928952833, 'colsample_bytree': 0.6573117534742441, 'reg_alpha': 0.039761874317897745, 'reg_lambda': 1.6219415926477056e-07}. Best is trial 24 with value: 0.7791970802919707.\u001b[0m\n",
      "\u001b[32m[I 2023-01-25 16:52:30,123]\u001b[0m Trial 76 finished with value: 0.777676120768527 and parameters: {'max_depth': 6, 'learning_rate': 0.01677794610900653, 'n_estimators': 358, 'min_child_weight': 8, 'gamma': 0.0022596710325492654, 'subsample': 0.6662804646646083, 'colsample_bytree': 0.9940700640427423, 'reg_alpha': 0.6123180217474272, 'reg_lambda': 2.1524289056950514e-05}. Best is trial 24 with value: 0.7791970802919707.\u001b[0m\n",
      "\u001b[32m[I 2023-01-25 16:52:31,430]\u001b[0m Trial 77 finished with value: 0.7754733994589719 and parameters: {'max_depth': 8, 'learning_rate': 0.023747178939943343, 'n_estimators': 353, 'min_child_weight': 9, 'gamma': 0.008136180949895584, 'subsample': 0.6659298175769786, 'colsample_bytree': 0.9171578280656653, 'reg_alpha': 0.6956097796190942, 'reg_lambda': 3.1756122502083434e-05}. Best is trial 24 with value: 0.7791970802919707.\u001b[0m\n",
      "\u001b[32m[I 2023-01-25 16:52:32,894]\u001b[0m Trial 78 finished with value: 0.7706422018348624 and parameters: {'max_depth': 7, 'learning_rate': 0.014091113579876247, 'n_estimators': 419, 'min_child_weight': 9, 'gamma': 0.002130484227672418, 'subsample': 0.773876910481804, 'colsample_bytree': 0.9969799327602201, 'reg_alpha': 0.4887784133620268, 'reg_lambda': 4.4277018726893906e-05}. Best is trial 24 with value: 0.7791970802919707.\u001b[0m\n"
     ]
    },
    {
     "name": "stderr",
     "output_type": "stream",
     "text": [
      "\u001b[32m[I 2023-01-25 16:52:34,178]\u001b[0m Trial 79 finished with value: 0.7757685352622061 and parameters: {'max_depth': 9, 'learning_rate': 0.02434910607727619, 'n_estimators': 395, 'min_child_weight': 10, 'gamma': 0.008184767465669008, 'subsample': 0.6424313315124289, 'colsample_bytree': 0.8924428738642741, 'reg_alpha': 0.788022035944985, 'reg_lambda': 1.1113196100085008e-05}. Best is trial 24 with value: 0.7791970802919707.\u001b[0m\n",
      "\u001b[32m[I 2023-01-25 16:52:35,514]\u001b[0m Trial 80 finished with value: 0.753514526710403 and parameters: {'max_depth': 9, 'learning_rate': 0.01696275845944428, 'n_estimators': 394, 'min_child_weight': 10, 'gamma': 0.007864801960042776, 'subsample': 0.8904816826630985, 'colsample_bytree': 0.5616501565176979, 'reg_alpha': 0.31658075595615326, 'reg_lambda': 8.87522669081934e-06}. Best is trial 24 with value: 0.7791970802919707.\u001b[0m\n",
      "\u001b[32m[I 2023-01-25 16:52:36,922]\u001b[0m Trial 81 finished with value: 0.7783783783783783 and parameters: {'max_depth': 9, 'learning_rate': 0.0230016788920479, 'n_estimators': 433, 'min_child_weight': 10, 'gamma': 0.006295924587732166, 'subsample': 0.6192734562173756, 'colsample_bytree': 0.8826072431369804, 'reg_alpha': 0.8386460561321141, 'reg_lambda': 3.399778142148454e-05}. Best is trial 24 with value: 0.7791970802919707.\u001b[0m\n",
      "\u001b[32m[I 2023-01-25 16:52:38,274]\u001b[0m Trial 82 finished with value: 0.7786811201445347 and parameters: {'max_depth': 9, 'learning_rate': 0.026657234190698115, 'n_estimators': 434, 'min_child_weight': 10, 'gamma': 0.004209781737597624, 'subsample': 0.5845428004218628, 'colsample_bytree': 0.8742720928887119, 'reg_alpha': 0.6826335391839696, 'reg_lambda': 2.3140137538237505e-05}. Best is trial 24 with value: 0.7791970802919707.\u001b[0m\n",
      "\u001b[32m[I 2023-01-25 16:52:39,606]\u001b[0m Trial 83 finished with value: 0.7757685352622061 and parameters: {'max_depth': 9, 'learning_rate': 0.02570423769855436, 'n_estimators': 439, 'min_child_weight': 10, 'gamma': 0.004121371992074094, 'subsample': 0.5626109097714557, 'colsample_bytree': 0.8392042212769029, 'reg_alpha': 0.9852937096021569, 'reg_lambda': 0.00011640453750344486}. Best is trial 24 with value: 0.7791970802919707.\u001b[0m\n",
      "\u001b[32m[I 2023-01-25 16:52:40,197]\u001b[0m Trial 84 finished with value: 0.724041159962582 and parameters: {'max_depth': 2, 'learning_rate': 0.022953316508286685, 'n_estimators': 409, 'min_child_weight': 10, 'gamma': 0.000947731095802815, 'subsample': 0.6125014137598691, 'colsample_bytree': 0.6801806042920264, 'reg_alpha': 0.5456635270731497, 'reg_lambda': 1.8164023865717858e-05}. Best is trial 24 with value: 0.7791970802919707.\u001b[0m\n",
      "\u001b[32m[I 2023-01-25 16:52:41,793]\u001b[0m Trial 85 finished with value: 0.7668488160291439 and parameters: {'max_depth': 9, 'learning_rate': 0.02824022332795472, 'n_estimators': 471, 'min_child_weight': 10, 'gamma': 0.0020210001177324893, 'subsample': 0.7067646551618938, 'colsample_bytree': 0.8084805273561243, 'reg_alpha': 0.35608438528047115, 'reg_lambda': 6.923003294523205e-06}. Best is trial 24 with value: 0.7791970802919707.\u001b[0m\n",
      "\u001b[32m[I 2023-01-25 16:52:43,157]\u001b[0m Trial 86 finished with value: 0.7634011090573012 and parameters: {'max_depth': 9, 'learning_rate': 0.015684712244540957, 'n_estimators': 459, 'min_child_weight': 10, 'gamma': 0.006739606049596794, 'subsample': 0.6187553880470572, 'colsample_bytree': 0.6066480186520355, 'reg_alpha': 0.6524145878987676, 'reg_lambda': 1.353312517027416e-05}. Best is trial 24 with value: 0.7791970802919707.\u001b[0m\n",
      "\u001b[32m[I 2023-01-25 16:52:44,099]\u001b[0m Trial 87 finished with value: 0.7597765363128491 and parameters: {'max_depth': 6, 'learning_rate': 0.020940607528774528, 'n_estimators': 432, 'min_child_weight': 10, 'gamma': 0.002894852215448698, 'subsample': 0.41477135122906805, 'colsample_bytree': 0.48536043661876743, 'reg_alpha': 0.21379045578905323, 'reg_lambda': 3.930630799024187e-06}. Best is trial 24 with value: 0.7791970802919707.\u001b[0m\n",
      "\u001b[32m[I 2023-01-25 16:52:45,551]\u001b[0m Trial 88 finished with value: 0.7743682310469314 and parameters: {'max_depth': 9, 'learning_rate': 0.036509691422857635, 'n_estimators': 416, 'min_child_weight': 9, 'gamma': 0.012637306051430987, 'subsample': 0.4442941734848697, 'colsample_bytree': 0.8876479527138518, 'reg_alpha': 0.984457954419111, 'reg_lambda': 2.2140532125679374e-05}. Best is trial 24 with value: 0.7791970802919707.\u001b[0m\n",
      "\u001b[32m[I 2023-01-25 16:52:47,310]\u001b[0m Trial 89 finished with value: 0.7720254314259765 and parameters: {'max_depth': 8, 'learning_rate': 0.02465998275014832, 'n_estimators': 446, 'min_child_weight': 10, 'gamma': 0.02424414721314974, 'subsample': 0.5233398932321204, 'colsample_bytree': 0.7327531582927682, 'reg_alpha': 0.3854386978975145, 'reg_lambda': 9.228377079042143e-06}. Best is trial 24 with value: 0.7791970802919707.\u001b[0m\n",
      "\u001b[32m[I 2023-01-25 16:52:48,792]\u001b[0m Trial 90 finished with value: 0.7682481751824818 and parameters: {'max_depth': 6, 'learning_rate': 0.03126616217113212, 'n_estimators': 499, 'min_child_weight': 9, 'gamma': 0.0049373114311154044, 'subsample': 0.7374447503937035, 'colsample_bytree': 0.8168638984993296, 'reg_alpha': 0.1674742126552399, 'reg_lambda': 8.167225430930899e-05}. Best is trial 24 with value: 0.7791970802919707.\u001b[0m\n",
      "\u001b[32m[I 2023-01-25 16:52:50,144]\u001b[0m Trial 91 finished with value: 0.7763636363636364 and parameters: {'max_depth': 9, 'learning_rate': 0.02586500403520264, 'n_estimators': 442, 'min_child_weight': 10, 'gamma': 0.004068155030056102, 'subsample': 0.5552597780704337, 'colsample_bytree': 0.8522048406419074, 'reg_alpha': 0.7957196166585229, 'reg_lambda': 4.85009685559873e-05}. Best is trial 24 with value: 0.7791970802919707.\u001b[0m\n",
      "\u001b[32m[I 2023-01-25 16:52:51,427]\u001b[0m Trial 92 finished with value: 0.7727272727272728 and parameters: {'max_depth': 9, 'learning_rate': 0.021759912250239766, 'n_estimators': 428, 'min_child_weight': 10, 'gamma': 0.0016534147947242543, 'subsample': 0.5605595634190703, 'colsample_bytree': 0.693385529000312, 'reg_alpha': 0.2861371457043346, 'reg_lambda': 1.3638969176432597e-05}. Best is trial 24 with value: 0.7791970802919707.\u001b[0m\n",
      "\u001b[32m[I 2023-01-25 16:52:52,822]\u001b[0m Trial 93 finished with value: 0.7770700636942675 and parameters: {'max_depth': 9, 'learning_rate': 0.02849364154832127, 'n_estimators': 476, 'min_child_weight': 10, 'gamma': 0.010271962403051843, 'subsample': 0.45458086086153177, 'colsample_bytree': 0.9293507601677301, 'reg_alpha': 0.7534265086404346, 'reg_lambda': 2.8418807862339475e-05}. Best is trial 24 with value: 0.7791970802919707.\u001b[0m\n",
      "\u001b[32m[I 2023-01-25 16:52:54,011]\u001b[0m Trial 94 finished with value: 0.7728506787330317 and parameters: {'max_depth': 9, 'learning_rate': 0.02692814366621135, 'n_estimators': 480, 'min_child_weight': 10, 'gamma': 0.003350794175238838, 'subsample': 0.3765117843027434, 'colsample_bytree': 0.7668910495528021, 'reg_alpha': 0.6716016281708838, 'reg_lambda': 0.00011771389849189367}. Best is trial 24 with value: 0.7791970802919707.\u001b[0m\n",
      "\u001b[32m[I 2023-01-25 16:52:55,265]\u001b[0m Trial 95 finished with value: 0.7706422018348624 and parameters: {'max_depth': 9, 'learning_rate': 0.01839523734007843, 'n_estimators': 462, 'min_child_weight': 9, 'gamma': 0.01177089532028281, 'subsample': 0.4437959721244681, 'colsample_bytree': 0.6305844848854596, 'reg_alpha': 0.17364073929392576, 'reg_lambda': 2.2724673530405315e-05}. Best is trial 24 with value: 0.7791970802919707.\u001b[0m\n",
      "\u001b[32m[I 2023-01-25 16:52:56,567]\u001b[0m Trial 96 finished with value: 0.7717391304347826 and parameters: {'max_depth': 8, 'learning_rate': 0.03449883493691182, 'n_estimators': 452, 'min_child_weight': 9, 'gamma': 0.005527789689208077, 'subsample': 0.4858124778983585, 'colsample_bytree': 0.9745778826598703, 'reg_alpha': 0.4710678721339352, 'reg_lambda': 3.852791703372586e-05}. Best is trial 24 with value: 0.7791970802919707.\u001b[0m\n",
      "\u001b[32m[I 2023-01-25 16:52:57,660]\u001b[0m Trial 97 finished with value: 0.7612903225806452 and parameters: {'max_depth': 8, 'learning_rate': 0.029022064563619797, 'n_estimators': 488, 'min_child_weight': 10, 'gamma': 0.0009214480086209196, 'subsample': 0.3394342571343833, 'colsample_bytree': 0.5225360773495745, 'reg_alpha': 0.3027089685668005, 'reg_lambda': 4.638302767008275e-06}. Best is trial 24 with value: 0.7791970802919707.\u001b[0m\n",
      "\u001b[32m[I 2023-01-25 16:52:59,558]\u001b[0m Trial 98 finished with value: 0.7749546279491832 and parameters: {'max_depth': 7, 'learning_rate': 0.03939928781278727, 'n_estimators': 471, 'min_child_weight': 5, 'gamma': 0.0256665156989148, 'subsample': 0.5718106720836248, 'colsample_bytree': 0.8829187405932303, 'reg_alpha': 0.1278178624290499, 'reg_lambda': 5.583242960905912e-05}. Best is trial 24 with value: 0.7791970802919707.\u001b[0m\n"
     ]
    },
    {
     "name": "stderr",
     "output_type": "stream",
     "text": [
      "\u001b[32m[I 2023-01-25 16:53:00,843]\u001b[0m Trial 99 finished with value: 0.775735294117647 and parameters: {'max_depth': 5, 'learning_rate': 0.022135684971936877, 'n_estimators': 440, 'min_child_weight': 7, 'gamma': 0.002213238298224652, 'subsample': 0.71540449131021, 'colsample_bytree': 0.780657718918361, 'reg_alpha': 0.6477502349462474, 'reg_lambda': 3.0089369013323376e-05}. Best is trial 24 with value: 0.7791970802919707.\u001b[0m\n"
     ]
    }
   ],
   "source": [
    "study.optimize(objective, n_trials=100)\n"
   ]
  },
  {
   "cell_type": "code",
   "execution_count": 43,
   "id": "55b037b0",
   "metadata": {},
   "outputs": [
    {
     "name": "stdout",
     "output_type": "stream",
     "text": [
      "Number of finished trials: 100\n",
      "Best trial:\n",
      "  Value: 0.7791970802919707\n",
      "  Params: \n",
      "    max_depth: 6\n",
      "    learning_rate: 0.03392430054877264\n",
      "    n_estimators: 329\n",
      "    min_child_weight: 7\n",
      "    gamma: 0.004131997757892637\n",
      "    subsample: 0.5839321335057758\n",
      "    colsample_bytree: 0.7391045170473989\n",
      "    reg_alpha: 0.20547038314196922\n",
      "    reg_lambda: 6.928601375563429e-08\n"
     ]
    }
   ],
   "source": [
    "print('Number of finished trials: {}'.format(len(study.trials)))\n",
    "print('Best trial:')\n",
    "trial = study.best_trial\n",
    "\n",
    "print('  Value: {}'.format(trial.value))\n",
    "print('  Params: ')\n",
    "\n",
    "for key, value in trial.params.items():\n",
    "    print('    {}: {}'.format(key, value))"
   ]
  },
  {
   "cell_type": "code",
   "execution_count": 44,
   "id": "bb720037",
   "metadata": {},
   "outputs": [],
   "source": [
    "params = trial.params\n"
   ]
  },
  {
   "cell_type": "markdown",
   "id": "706e15ba",
   "metadata": {},
   "source": [
    "XGBClassifier with optuna parameters"
   ]
  },
  {
   "cell_type": "code",
   "execution_count": 45,
   "id": "022319f1",
   "metadata": {},
   "outputs": [
    {
     "data": {
      "text/html": [
       "<style>#sk-container-id-3 {color: black;background-color: white;}#sk-container-id-3 pre{padding: 0;}#sk-container-id-3 div.sk-toggleable {background-color: white;}#sk-container-id-3 label.sk-toggleable__label {cursor: pointer;display: block;width: 100%;margin-bottom: 0;padding: 0.3em;box-sizing: border-box;text-align: center;}#sk-container-id-3 label.sk-toggleable__label-arrow:before {content: \"▸\";float: left;margin-right: 0.25em;color: #696969;}#sk-container-id-3 label.sk-toggleable__label-arrow:hover:before {color: black;}#sk-container-id-3 div.sk-estimator:hover label.sk-toggleable__label-arrow:before {color: black;}#sk-container-id-3 div.sk-toggleable__content {max-height: 0;max-width: 0;overflow: hidden;text-align: left;background-color: #f0f8ff;}#sk-container-id-3 div.sk-toggleable__content pre {margin: 0.2em;color: black;border-radius: 0.25em;background-color: #f0f8ff;}#sk-container-id-3 input.sk-toggleable__control:checked~div.sk-toggleable__content {max-height: 200px;max-width: 100%;overflow: auto;}#sk-container-id-3 input.sk-toggleable__control:checked~label.sk-toggleable__label-arrow:before {content: \"▾\";}#sk-container-id-3 div.sk-estimator input.sk-toggleable__control:checked~label.sk-toggleable__label {background-color: #d4ebff;}#sk-container-id-3 div.sk-label input.sk-toggleable__control:checked~label.sk-toggleable__label {background-color: #d4ebff;}#sk-container-id-3 input.sk-hidden--visually {border: 0;clip: rect(1px 1px 1px 1px);clip: rect(1px, 1px, 1px, 1px);height: 1px;margin: -1px;overflow: hidden;padding: 0;position: absolute;width: 1px;}#sk-container-id-3 div.sk-estimator {font-family: monospace;background-color: #f0f8ff;border: 1px dotted black;border-radius: 0.25em;box-sizing: border-box;margin-bottom: 0.5em;}#sk-container-id-3 div.sk-estimator:hover {background-color: #d4ebff;}#sk-container-id-3 div.sk-parallel-item::after {content: \"\";width: 100%;border-bottom: 1px solid gray;flex-grow: 1;}#sk-container-id-3 div.sk-label:hover label.sk-toggleable__label {background-color: #d4ebff;}#sk-container-id-3 div.sk-serial::before {content: \"\";position: absolute;border-left: 1px solid gray;box-sizing: border-box;top: 0;bottom: 0;left: 50%;z-index: 0;}#sk-container-id-3 div.sk-serial {display: flex;flex-direction: column;align-items: center;background-color: white;padding-right: 0.2em;padding-left: 0.2em;position: relative;}#sk-container-id-3 div.sk-item {position: relative;z-index: 1;}#sk-container-id-3 div.sk-parallel {display: flex;align-items: stretch;justify-content: center;background-color: white;position: relative;}#sk-container-id-3 div.sk-item::before, #sk-container-id-3 div.sk-parallel-item::before {content: \"\";position: absolute;border-left: 1px solid gray;box-sizing: border-box;top: 0;bottom: 0;left: 50%;z-index: -1;}#sk-container-id-3 div.sk-parallel-item {display: flex;flex-direction: column;z-index: 1;position: relative;background-color: white;}#sk-container-id-3 div.sk-parallel-item:first-child::after {align-self: flex-end;width: 50%;}#sk-container-id-3 div.sk-parallel-item:last-child::after {align-self: flex-start;width: 50%;}#sk-container-id-3 div.sk-parallel-item:only-child::after {width: 0;}#sk-container-id-3 div.sk-dashed-wrapped {border: 1px dashed gray;margin: 0 0.4em 0.5em 0.4em;box-sizing: border-box;padding-bottom: 0.4em;background-color: white;}#sk-container-id-3 div.sk-label label {font-family: monospace;font-weight: bold;display: inline-block;line-height: 1.2em;}#sk-container-id-3 div.sk-label-container {text-align: center;}#sk-container-id-3 div.sk-container {/* jupyter's `normalize.less` sets `[hidden] { display: none; }` but bootstrap.min.css set `[hidden] { display: none !important; }` so we also need the `!important` here to be able to override the default hidden behavior on the sphinx rendered scikit-learn.org. See: https://github.com/scikit-learn/scikit-learn/issues/21755 */display: inline-block !important;position: relative;}#sk-container-id-3 div.sk-text-repr-fallback {display: none;}</style><div id=\"sk-container-id-3\" class=\"sk-top-container\"><div class=\"sk-text-repr-fallback\"><pre>XGBClassifier(base_score=None, booster=None, callbacks=None,\n",
       "              colsample_bylevel=None, colsample_bynode=None,\n",
       "              colsample_bytree=0.7391045170473989, early_stopping_rounds=None,\n",
       "              enable_categorical=False, eval_metric=None, feature_types=None,\n",
       "              gamma=0.004131997757892637, gpu_id=None, grow_policy=None,\n",
       "              importance_type=None, interaction_constraints=None,\n",
       "              learning_rate=0.03392430054877264, max_bin=None,\n",
       "              max_cat_threshold=None, max_cat_to_onehot=None,\n",
       "              max_delta_step=None, max_depth=6, max_leaves=None,\n",
       "              min_child_weight=7, missing=nan, monotone_constraints=None,\n",
       "              n_estimators=329, n_jobs=None, num_parallel_tree=None,\n",
       "              predictor=None, random_state=None, ...)</pre><b>In a Jupyter environment, please rerun this cell to show the HTML representation or trust the notebook. <br />On GitHub, the HTML representation is unable to render, please try loading this page with nbviewer.org.</b></div><div class=\"sk-container\" hidden><div class=\"sk-item\"><div class=\"sk-estimator sk-toggleable\"><input class=\"sk-toggleable__control sk-hidden--visually\" id=\"sk-estimator-id-3\" type=\"checkbox\" checked><label for=\"sk-estimator-id-3\" class=\"sk-toggleable__label sk-toggleable__label-arrow\">XGBClassifier</label><div class=\"sk-toggleable__content\"><pre>XGBClassifier(base_score=None, booster=None, callbacks=None,\n",
       "              colsample_bylevel=None, colsample_bynode=None,\n",
       "              colsample_bytree=0.7391045170473989, early_stopping_rounds=None,\n",
       "              enable_categorical=False, eval_metric=None, feature_types=None,\n",
       "              gamma=0.004131997757892637, gpu_id=None, grow_policy=None,\n",
       "              importance_type=None, interaction_constraints=None,\n",
       "              learning_rate=0.03392430054877264, max_bin=None,\n",
       "              max_cat_threshold=None, max_cat_to_onehot=None,\n",
       "              max_delta_step=None, max_depth=6, max_leaves=None,\n",
       "              min_child_weight=7, missing=nan, monotone_constraints=None,\n",
       "              n_estimators=329, n_jobs=None, num_parallel_tree=None,\n",
       "              predictor=None, random_state=None, ...)</pre></div></div></div></div></div>"
      ],
      "text/plain": [
       "XGBClassifier(base_score=None, booster=None, callbacks=None,\n",
       "              colsample_bylevel=None, colsample_bynode=None,\n",
       "              colsample_bytree=0.7391045170473989, early_stopping_rounds=None,\n",
       "              enable_categorical=False, eval_metric=None, feature_types=None,\n",
       "              gamma=0.004131997757892637, gpu_id=None, grow_policy=None,\n",
       "              importance_type=None, interaction_constraints=None,\n",
       "              learning_rate=0.03392430054877264, max_bin=None,\n",
       "              max_cat_threshold=None, max_cat_to_onehot=None,\n",
       "              max_delta_step=None, max_depth=6, max_leaves=None,\n",
       "              min_child_weight=7, missing=nan, monotone_constraints=None,\n",
       "              n_estimators=329, n_jobs=None, num_parallel_tree=None,\n",
       "              predictor=None, random_state=None, ...)"
      ]
     },
     "execution_count": 45,
     "metadata": {},
     "output_type": "execute_result"
    }
   ],
   "source": [
    "model = XGBClassifier(**params)\n",
    "model.fit(df_train.values, y_train.values)"
   ]
  },
  {
   "cell_type": "code",
   "execution_count": 46,
   "id": "e874890b",
   "metadata": {},
   "outputs": [],
   "source": [
    "y_test_pred = model.predict(df_test)\n"
   ]
  },
  {
   "cell_type": "code",
   "execution_count": 47,
   "id": "b2810471",
   "metadata": {},
   "outputs": [
    {
     "data": {
      "text/html": [
       "<div>\n",
       "<style scoped>\n",
       "    .dataframe tbody tr th:only-of-type {\n",
       "        vertical-align: middle;\n",
       "    }\n",
       "\n",
       "    .dataframe tbody tr th {\n",
       "        vertical-align: top;\n",
       "    }\n",
       "\n",
       "    .dataframe thead th {\n",
       "        text-align: right;\n",
       "    }\n",
       "</style>\n",
       "<table border=\"1\" class=\"dataframe\">\n",
       "  <thead>\n",
       "    <tr style=\"text-align: right;\">\n",
       "      <th></th>\n",
       "      <th>promoted</th>\n",
       "      <th>review</th>\n",
       "      <th>projects</th>\n",
       "      <th>tenure</th>\n",
       "      <th>satisfaction</th>\n",
       "      <th>bonus</th>\n",
       "      <th>avg_hrs_month</th>\n",
       "    </tr>\n",
       "  </thead>\n",
       "  <tbody>\n",
       "    <tr>\n",
       "      <th>8633</th>\n",
       "      <td>0</td>\n",
       "      <td>0.540461</td>\n",
       "      <td>3</td>\n",
       "      <td>7.0</td>\n",
       "      <td>0.693443</td>\n",
       "      <td>0</td>\n",
       "      <td>0.930803</td>\n",
       "    </tr>\n",
       "    <tr>\n",
       "      <th>3018</th>\n",
       "      <td>0</td>\n",
       "      <td>0.599346</td>\n",
       "      <td>3</td>\n",
       "      <td>5.0</td>\n",
       "      <td>0.772451</td>\n",
       "      <td>0</td>\n",
       "      <td>0.896168</td>\n",
       "    </tr>\n",
       "    <tr>\n",
       "      <th>8183</th>\n",
       "      <td>0</td>\n",
       "      <td>0.607351</td>\n",
       "      <td>4</td>\n",
       "      <td>7.0</td>\n",
       "      <td>0.550263</td>\n",
       "      <td>0</td>\n",
       "      <td>0.932914</td>\n",
       "    </tr>\n",
       "    <tr>\n",
       "      <th>7766</th>\n",
       "      <td>0</td>\n",
       "      <td>0.698769</td>\n",
       "      <td>3</td>\n",
       "      <td>9.0</td>\n",
       "      <td>0.450545</td>\n",
       "      <td>0</td>\n",
       "      <td>0.953211</td>\n",
       "    </tr>\n",
       "    <tr>\n",
       "      <th>2045</th>\n",
       "      <td>0</td>\n",
       "      <td>0.536302</td>\n",
       "      <td>2</td>\n",
       "      <td>7.0</td>\n",
       "      <td>0.613069</td>\n",
       "      <td>1</td>\n",
       "      <td>0.926633</td>\n",
       "    </tr>\n",
       "    <tr>\n",
       "      <th>...</th>\n",
       "      <td>...</td>\n",
       "      <td>...</td>\n",
       "      <td>...</td>\n",
       "      <td>...</td>\n",
       "      <td>...</td>\n",
       "      <td>...</td>\n",
       "      <td>...</td>\n",
       "    </tr>\n",
       "    <tr>\n",
       "      <th>3176</th>\n",
       "      <td>0</td>\n",
       "      <td>0.618196</td>\n",
       "      <td>2</td>\n",
       "      <td>6.0</td>\n",
       "      <td>0.582356</td>\n",
       "      <td>0</td>\n",
       "      <td>0.904152</td>\n",
       "    </tr>\n",
       "    <tr>\n",
       "      <th>5201</th>\n",
       "      <td>0</td>\n",
       "      <td>0.648051</td>\n",
       "      <td>4</td>\n",
       "      <td>6.0</td>\n",
       "      <td>0.266717</td>\n",
       "      <td>0</td>\n",
       "      <td>0.906609</td>\n",
       "    </tr>\n",
       "    <tr>\n",
       "      <th>8284</th>\n",
       "      <td>0</td>\n",
       "      <td>0.729308</td>\n",
       "      <td>3</td>\n",
       "      <td>8.0</td>\n",
       "      <td>0.660472</td>\n",
       "      <td>0</td>\n",
       "      <td>0.934859</td>\n",
       "    </tr>\n",
       "    <tr>\n",
       "      <th>5257</th>\n",
       "      <td>0</td>\n",
       "      <td>0.501450</td>\n",
       "      <td>2</td>\n",
       "      <td>10.0</td>\n",
       "      <td>0.678663</td>\n",
       "      <td>0</td>\n",
       "      <td>0.966264</td>\n",
       "    </tr>\n",
       "    <tr>\n",
       "      <th>3396</th>\n",
       "      <td>0</td>\n",
       "      <td>0.674539</td>\n",
       "      <td>2</td>\n",
       "      <td>7.0</td>\n",
       "      <td>0.441500</td>\n",
       "      <td>0</td>\n",
       "      <td>0.925697</td>\n",
       "    </tr>\n",
       "  </tbody>\n",
       "</table>\n",
       "<p>1908 rows × 7 columns</p>\n",
       "</div>"
      ],
      "text/plain": [
       "      promoted    review  projects  tenure  satisfaction  bonus  avg_hrs_month\n",
       "8633         0  0.540461         3     7.0      0.693443      0       0.930803\n",
       "3018         0  0.599346         3     5.0      0.772451      0       0.896168\n",
       "8183         0  0.607351         4     7.0      0.550263      0       0.932914\n",
       "7766         0  0.698769         3     9.0      0.450545      0       0.953211\n",
       "2045         0  0.536302         2     7.0      0.613069      1       0.926633\n",
       "...        ...       ...       ...     ...           ...    ...            ...\n",
       "3176         0  0.618196         2     6.0      0.582356      0       0.904152\n",
       "5201         0  0.648051         4     6.0      0.266717      0       0.906609\n",
       "8284         0  0.729308         3     8.0      0.660472      0       0.934859\n",
       "5257         0  0.501450         2    10.0      0.678663      0       0.966264\n",
       "3396         0  0.674539         2     7.0      0.441500      0       0.925697\n",
       "\n",
       "[1908 rows x 7 columns]"
      ]
     },
     "execution_count": 47,
     "metadata": {},
     "output_type": "execute_result"
    }
   ],
   "source": [
    "df_test"
   ]
  },
  {
   "cell_type": "code",
   "execution_count": 48,
   "id": "a123d195",
   "metadata": {},
   "outputs": [],
   "source": [
    "score = f1_score(y_test_pred, y_test)"
   ]
  },
  {
   "cell_type": "code",
   "execution_count": 49,
   "id": "a19be0e7",
   "metadata": {},
   "outputs": [
    {
     "data": {
      "text/plain": [
       "0.7791970802919707"
      ]
     },
     "execution_count": 49,
     "metadata": {},
     "output_type": "execute_result"
    }
   ],
   "source": [
    "score"
   ]
  },
  {
   "cell_type": "code",
   "execution_count": 50,
   "id": "5229c804",
   "metadata": {},
   "outputs": [
    {
     "name": "stdout",
     "output_type": "stream",
     "text": [
      "              precision    recall  f1-score   support\n",
      "\n",
      "           0       0.93      0.89      0.91      1390\n",
      "           1       0.74      0.82      0.78       518\n",
      "\n",
      "    accuracy                           0.87      1908\n",
      "   macro avg       0.84      0.86      0.85      1908\n",
      "weighted avg       0.88      0.87      0.88      1908\n",
      "\n"
     ]
    }
   ],
   "source": [
    "print(classification_report(y_test_pred, y_test))\n"
   ]
  },
  {
   "cell_type": "code",
   "execution_count": 51,
   "id": "2cedb0dd",
   "metadata": {},
   "outputs": [],
   "source": [
    "#precision - true positive out of predicted positive\n",
    "#recall - true positive out of all positive"
   ]
  },
  {
   "cell_type": "code",
   "execution_count": 52,
   "id": "986d32a5",
   "metadata": {},
   "outputs": [],
   "source": [
    "df_test_str = df_test.iloc[[1]]"
   ]
  },
  {
   "cell_type": "code",
   "execution_count": 53,
   "id": "0156d529",
   "metadata": {},
   "outputs": [
    {
     "data": {
      "text/html": [
       "<div>\n",
       "<style scoped>\n",
       "    .dataframe tbody tr th:only-of-type {\n",
       "        vertical-align: middle;\n",
       "    }\n",
       "\n",
       "    .dataframe tbody tr th {\n",
       "        vertical-align: top;\n",
       "    }\n",
       "\n",
       "    .dataframe thead th {\n",
       "        text-align: right;\n",
       "    }\n",
       "</style>\n",
       "<table border=\"1\" class=\"dataframe\">\n",
       "  <thead>\n",
       "    <tr style=\"text-align: right;\">\n",
       "      <th></th>\n",
       "      <th>promoted</th>\n",
       "      <th>review</th>\n",
       "      <th>projects</th>\n",
       "      <th>tenure</th>\n",
       "      <th>satisfaction</th>\n",
       "      <th>bonus</th>\n",
       "      <th>avg_hrs_month</th>\n",
       "    </tr>\n",
       "  </thead>\n",
       "  <tbody>\n",
       "    <tr>\n",
       "      <th>3018</th>\n",
       "      <td>0</td>\n",
       "      <td>0.599346</td>\n",
       "      <td>3</td>\n",
       "      <td>5.0</td>\n",
       "      <td>0.772451</td>\n",
       "      <td>0</td>\n",
       "      <td>0.896168</td>\n",
       "    </tr>\n",
       "  </tbody>\n",
       "</table>\n",
       "</div>"
      ],
      "text/plain": [
       "      promoted    review  projects  tenure  satisfaction  bonus  avg_hrs_month\n",
       "3018         0  0.599346         3     5.0      0.772451      0       0.896168"
      ]
     },
     "execution_count": 53,
     "metadata": {},
     "output_type": "execute_result"
    }
   ],
   "source": [
    "df_test_str"
   ]
  },
  {
   "cell_type": "code",
   "execution_count": 54,
   "id": "903d504a",
   "metadata": {},
   "outputs": [
    {
     "data": {
      "text/html": [
       "<div>\n",
       "<style scoped>\n",
       "    .dataframe tbody tr th:only-of-type {\n",
       "        vertical-align: middle;\n",
       "    }\n",
       "\n",
       "    .dataframe tbody tr th {\n",
       "        vertical-align: top;\n",
       "    }\n",
       "\n",
       "    .dataframe thead th {\n",
       "        text-align: right;\n",
       "    }\n",
       "</style>\n",
       "<table border=\"1\" class=\"dataframe\">\n",
       "  <thead>\n",
       "    <tr style=\"text-align: right;\">\n",
       "      <th></th>\n",
       "      <th>promoted</th>\n",
       "      <th>review</th>\n",
       "      <th>projects</th>\n",
       "      <th>tenure</th>\n",
       "      <th>satisfaction</th>\n",
       "      <th>bonus</th>\n",
       "      <th>avg_hrs_month</th>\n",
       "    </tr>\n",
       "  </thead>\n",
       "  <tbody>\n",
       "    <tr>\n",
       "      <th>8633</th>\n",
       "      <td>0</td>\n",
       "      <td>0.540461</td>\n",
       "      <td>3</td>\n",
       "      <td>7.0</td>\n",
       "      <td>0.693443</td>\n",
       "      <td>0</td>\n",
       "      <td>0.930803</td>\n",
       "    </tr>\n",
       "    <tr>\n",
       "      <th>3018</th>\n",
       "      <td>0</td>\n",
       "      <td>0.599346</td>\n",
       "      <td>3</td>\n",
       "      <td>5.0</td>\n",
       "      <td>0.772451</td>\n",
       "      <td>0</td>\n",
       "      <td>0.896168</td>\n",
       "    </tr>\n",
       "    <tr>\n",
       "      <th>8183</th>\n",
       "      <td>0</td>\n",
       "      <td>0.607351</td>\n",
       "      <td>4</td>\n",
       "      <td>7.0</td>\n",
       "      <td>0.550263</td>\n",
       "      <td>0</td>\n",
       "      <td>0.932914</td>\n",
       "    </tr>\n",
       "    <tr>\n",
       "      <th>7766</th>\n",
       "      <td>0</td>\n",
       "      <td>0.698769</td>\n",
       "      <td>3</td>\n",
       "      <td>9.0</td>\n",
       "      <td>0.450545</td>\n",
       "      <td>0</td>\n",
       "      <td>0.953211</td>\n",
       "    </tr>\n",
       "    <tr>\n",
       "      <th>2045</th>\n",
       "      <td>0</td>\n",
       "      <td>0.536302</td>\n",
       "      <td>2</td>\n",
       "      <td>7.0</td>\n",
       "      <td>0.613069</td>\n",
       "      <td>1</td>\n",
       "      <td>0.926633</td>\n",
       "    </tr>\n",
       "    <tr>\n",
       "      <th>...</th>\n",
       "      <td>...</td>\n",
       "      <td>...</td>\n",
       "      <td>...</td>\n",
       "      <td>...</td>\n",
       "      <td>...</td>\n",
       "      <td>...</td>\n",
       "      <td>...</td>\n",
       "    </tr>\n",
       "    <tr>\n",
       "      <th>3176</th>\n",
       "      <td>0</td>\n",
       "      <td>0.618196</td>\n",
       "      <td>2</td>\n",
       "      <td>6.0</td>\n",
       "      <td>0.582356</td>\n",
       "      <td>0</td>\n",
       "      <td>0.904152</td>\n",
       "    </tr>\n",
       "    <tr>\n",
       "      <th>5201</th>\n",
       "      <td>0</td>\n",
       "      <td>0.648051</td>\n",
       "      <td>4</td>\n",
       "      <td>6.0</td>\n",
       "      <td>0.266717</td>\n",
       "      <td>0</td>\n",
       "      <td>0.906609</td>\n",
       "    </tr>\n",
       "    <tr>\n",
       "      <th>8284</th>\n",
       "      <td>0</td>\n",
       "      <td>0.729308</td>\n",
       "      <td>3</td>\n",
       "      <td>8.0</td>\n",
       "      <td>0.660472</td>\n",
       "      <td>0</td>\n",
       "      <td>0.934859</td>\n",
       "    </tr>\n",
       "    <tr>\n",
       "      <th>5257</th>\n",
       "      <td>0</td>\n",
       "      <td>0.501450</td>\n",
       "      <td>2</td>\n",
       "      <td>10.0</td>\n",
       "      <td>0.678663</td>\n",
       "      <td>0</td>\n",
       "      <td>0.966264</td>\n",
       "    </tr>\n",
       "    <tr>\n",
       "      <th>3396</th>\n",
       "      <td>0</td>\n",
       "      <td>0.674539</td>\n",
       "      <td>2</td>\n",
       "      <td>7.0</td>\n",
       "      <td>0.441500</td>\n",
       "      <td>0</td>\n",
       "      <td>0.925697</td>\n",
       "    </tr>\n",
       "  </tbody>\n",
       "</table>\n",
       "<p>1908 rows × 7 columns</p>\n",
       "</div>"
      ],
      "text/plain": [
       "      promoted    review  projects  tenure  satisfaction  bonus  avg_hrs_month\n",
       "8633         0  0.540461         3     7.0      0.693443      0       0.930803\n",
       "3018         0  0.599346         3     5.0      0.772451      0       0.896168\n",
       "8183         0  0.607351         4     7.0      0.550263      0       0.932914\n",
       "7766         0  0.698769         3     9.0      0.450545      0       0.953211\n",
       "2045         0  0.536302         2     7.0      0.613069      1       0.926633\n",
       "...        ...       ...       ...     ...           ...    ...            ...\n",
       "3176         0  0.618196         2     6.0      0.582356      0       0.904152\n",
       "5201         0  0.648051         4     6.0      0.266717      0       0.906609\n",
       "8284         0  0.729308         3     8.0      0.660472      0       0.934859\n",
       "5257         0  0.501450         2    10.0      0.678663      0       0.966264\n",
       "3396         0  0.674539         2     7.0      0.441500      0       0.925697\n",
       "\n",
       "[1908 rows x 7 columns]"
      ]
     },
     "execution_count": 54,
     "metadata": {},
     "output_type": "execute_result"
    }
   ],
   "source": [
    "df_test"
   ]
  },
  {
   "cell_type": "code",
   "execution_count": 55,
   "id": "9940a95a",
   "metadata": {},
   "outputs": [
    {
     "data": {
      "text/plain": [
       "array([[0.99111867, 0.00888133]], dtype=float32)"
      ]
     },
     "execution_count": 55,
     "metadata": {},
     "output_type": "execute_result"
    }
   ],
   "source": [
    "model.predict_proba(df_test_str)"
   ]
  },
  {
   "cell_type": "code",
   "execution_count": 56,
   "id": "8fb28a8c",
   "metadata": {},
   "outputs": [],
   "source": [
    "#normalize features\n",
    "#  1       0.73      0.84      0.78       507"
   ]
  },
  {
   "cell_type": "code",
   "execution_count": 57,
   "id": "de31de74",
   "metadata": {},
   "outputs": [],
   "source": [
    "import pickle\n"
   ]
  },
  {
   "cell_type": "code",
   "execution_count": 58,
   "id": "950ab789",
   "metadata": {},
   "outputs": [],
   "source": [
    "pickle_out = open(\"rf.pkl\", \"wb\")\n",
    "pickle.dump(rf, pickle_out)\n",
    "pickle_out.close()\n"
   ]
  },
  {
   "cell_type": "code",
   "execution_count": 59,
   "id": "5f2e62ce",
   "metadata": {},
   "outputs": [],
   "source": [
    "with open(\"rf.pkl\", \"rb\") as file:\n",
    "    rf = pickle.load(file)\n"
   ]
  },
  {
   "cell_type": "code",
   "execution_count": null,
   "id": "c5a6b369",
   "metadata": {},
   "outputs": [],
   "source": []
  },
  {
   "cell_type": "code",
   "execution_count": null,
   "id": "d9b0dbdc",
   "metadata": {},
   "outputs": [],
   "source": []
  }
 ],
 "metadata": {
  "kernelspec": {
   "display_name": "Python 3 (ipykernel)",
   "language": "python",
   "name": "python3"
  },
  "language_info": {
   "codemirror_mode": {
    "name": "ipython",
    "version": 3
   },
   "file_extension": ".py",
   "mimetype": "text/x-python",
   "name": "python",
   "nbconvert_exporter": "python",
   "pygments_lexer": "ipython3",
   "version": "3.9.13"
  },
  "vscode": {
   "interpreter": {
    "hash": "38da101fa717f2f68b9ffe0bece0da07175428a2c7f07bb771f0fb5bb793352d"
   }
  }
 },
 "nbformat": 4,
 "nbformat_minor": 5
}
